{
 "cells": [
  {
   "cell_type": "code",
   "execution_count": 1,
   "metadata": {},
   "outputs": [],
   "source": [
    "from datetime import timedelta\n",
    "\n",
    "import implicit\n",
    "import numpy as np\n",
    "import pandas as pd\n",
    "import seaborn as sns\n",
    "import matplotlib.pyplot as plt\n",
    "from tqdm import tqdm\n",
    "from scipy.sparse import csr_matrix\n",
    "\n",
    "from utils import train_test_split"
   ]
  },
  {
   "cell_type": "code",
   "execution_count": 2,
   "metadata": {},
   "outputs": [],
   "source": [
    "df = pd.read_csv(\"./transactions_train.csv\")\n",
    "articles = pd.read_csv(\"./articles.csv\")"
   ]
  },
  {
   "cell_type": "code",
   "execution_count": 3,
   "metadata": {},
   "outputs": [],
   "source": [
    "df.t_dat = pd.to_datetime(df.t_dat)"
   ]
  },
  {
   "cell_type": "markdown",
   "metadata": {},
   "source": [
    "### 최근 3개월로 한정"
   ]
  },
  {
   "cell_type": "code",
   "execution_count": 4,
   "metadata": {},
   "outputs": [
    {
     "name": "stdout",
     "output_type": "stream",
     "text": [
      "기존 데이터 수: 31,788,324\n",
      "최근 3개월 데이터 수: 3,904,391\n"
     ]
    }
   ],
   "source": [
    "print(f\"기존 데이터 수: {len(df):,}\")\n",
    "last_90_days = df.t_dat.max() - timedelta(days=90)\n",
    "df = df[df.t_dat >= last_90_days]\n",
    "print(f\"최근 3개월 데이터 수: {len(df):,}\")"
   ]
  },
  {
   "cell_type": "code",
   "execution_count": 5,
   "metadata": {},
   "outputs": [
    {
     "name": "stdout",
     "output_type": "stream",
     "text": [
      "train: 2020-06-24 ~ 2020-09-14\n",
      "test: 2020-09-15 ~ 2020-09-22\n"
     ]
    }
   ],
   "source": [
    "train_df, test_df = train_test_split(df)"
   ]
  },
  {
   "cell_type": "markdown",
   "metadata": {},
   "source": [
    "### Preprocess"
   ]
  },
  {
   "cell_type": "code",
   "execution_count": 6,
   "metadata": {},
   "outputs": [
    {
     "name": "stdout",
     "output_type": "stream",
     "text": [
      "CPU times: user 1.67 s, sys: 156 ms, total: 1.83 s\n",
      "Wall time: 1.95 s\n"
     ]
    }
   ],
   "source": [
    "%%time\n",
    "transaction_matrix = train_df.groupby([\"customer_id\", \"article_id\"]).size().reset_index(name=\"buy_count\")"
   ]
  },
  {
   "cell_type": "code",
   "execution_count": 7,
   "metadata": {},
   "outputs": [
    {
     "name": "stdout",
     "output_type": "stream",
     "text": [
      "CPU times: user 622 ms, sys: 8.28 ms, total: 630 ms\n",
      "Wall time: 643 ms\n"
     ]
    }
   ],
   "source": [
    "%%time\n",
    "uid_to_idx = {uid: idx for (idx, uid) in enumerate(transaction_matrix.customer_id.unique().tolist())}\n",
    "iid_to_idx = {iid: idx for (idx, iid) in enumerate(transaction_matrix.article_id.unique().tolist())}\n",
    "\n",
    "idx_to_iid = {idx:iid for iid, idx in iid_to_idx.items()}\n",
    "idx_to_uid = {idx:uid for uid, idx in uid_to_idx.items()}"
   ]
  },
  {
   "cell_type": "code",
   "execution_count": 8,
   "metadata": {},
   "outputs": [
    {
     "name": "stdout",
     "output_type": "stream",
     "text": [
      "CPU times: user 593 ms, sys: 31.2 ms, total: 624 ms\n",
      "Wall time: 638 ms\n"
     ]
    }
   ],
   "source": [
    "%%time\n",
    "row = transaction_matrix.customer_id.tolist()\n",
    "col = transaction_matrix.article_id.tolist()\n",
    "dat = transaction_matrix.buy_count.tolist()\n",
    "\n",
    "## id convert\n",
    "row = [uid_to_idx[r] for r in row]\n",
    "col = [iid_to_idx[c] for c in col]"
   ]
  },
  {
   "cell_type": "code",
   "execution_count": 9,
   "metadata": {},
   "outputs": [
    {
     "name": "stdout",
     "output_type": "stream",
     "text": [
      "(503219, 41256)\n",
      "CPU times: user 1.42 s, sys: 28.6 ms, total: 1.44 s\n",
      "Wall time: 1.51 s\n"
     ]
    }
   ],
   "source": [
    "%%time\n",
    "train_matrix = csr_matrix((dat, (row,col)), shape=(1 + np.max(row), 1 + np.max(col)))\n",
    "print(train_matrix.shape)"
   ]
  },
  {
   "cell_type": "code",
   "execution_count": 10,
   "metadata": {},
   "outputs": [],
   "source": [
    "train_matrix_csr = train_matrix.tocsr()"
   ]
  },
  {
   "cell_type": "markdown",
   "metadata": {},
   "source": [
    "### ALS"
   ]
  },
  {
   "cell_type": "code",
   "execution_count": 11,
   "metadata": {},
   "outputs": [
    {
     "name": "stderr",
     "output_type": "stream",
     "text": [
      "/Users/kakao/opt/anaconda3/lib/python3.8/site-packages/implicit/utils.py:31: UserWarning: Intel MKL BLAS detected. Its highly recommend to set the environment variable 'export MKL_NUM_THREADS=1' to disable its internal multithreading\n",
      "  warnings.warn(\n"
     ]
    },
    {
     "data": {
      "application/vnd.jupyter.widget-view+json": {
       "model_id": "a650f83cdeea4eaeae1d17e7ed349763",
       "version_major": 2,
       "version_minor": 0
      },
      "text/plain": [
       "HBox(children=(HTML(value=''), FloatProgress(value=0.0, max=15.0), HTML(value='')))"
      ]
     },
     "metadata": {},
     "output_type": "display_data"
    },
    {
     "name": "stdout",
     "output_type": "stream",
     "text": [
      "\n"
     ]
    }
   ],
   "source": [
    "model_als = implicit.als.AlternatingLeastSquares(factors=20, use_gpu=False)\n",
    "model_als.fit(train_matrix_csr)"
   ]
  },
  {
   "cell_type": "code",
   "execution_count": 12,
   "metadata": {},
   "outputs": [
    {
     "name": "stderr",
     "output_type": "stream",
     "text": [
      "100%|██████████| 503219/503219 [03:26<00:00, 2440.74it/s]\n"
     ]
    }
   ],
   "source": [
    "als_reco = {} \n",
    "for uid in tqdm(train_df.customer_id.unique()):\n",
    "    items, scores = model_als.recommend(uid_to_idx[uid], train_matrix[uid_to_idx[uid]], 12)\n",
    "    als_reco[uid] = items"
   ]
  },
  {
   "cell_type": "markdown",
   "metadata": {},
   "source": [
    "### Evaluation"
   ]
  },
  {
   "cell_type": "code",
   "execution_count": 13,
   "metadata": {},
   "outputs": [
    {
     "name": "stderr",
     "output_type": "stream",
     "text": [
      "100%|██████████| 75481/75481 [00:03<00:00, 20052.68it/s]"
     ]
    },
    {
     "name": "stdout",
     "output_type": "stream",
     "text": [
      "CPU times: user 4.63 s, sys: 570 ms, total: 5.2 s\n",
      "Wall time: 4.13 s\n"
     ]
    },
    {
     "name": "stderr",
     "output_type": "stream",
     "text": [
      "\n"
     ]
    }
   ],
   "source": [
    "%%time\n",
    "test_dic = {customer_id:set(group[\"article_id\"]) for customer_id, group in tqdm(test_df.groupby(\"customer_id\"))}"
   ]
  },
  {
   "cell_type": "code",
   "execution_count": 14,
   "metadata": {},
   "outputs": [
    {
     "name": "stderr",
     "output_type": "stream",
     "text": [
      "100%|██████████| 503219/503219 [00:01<00:00, 383454.06it/s]\n"
     ]
    }
   ],
   "source": [
    "catch_count = []\n",
    "for uid, reco in tqdm(als_reco.items()):\n",
    "    ## 차주에 아예 구매가 없음\n",
    "    if uid not in test_dic:\n",
    "        continue\n",
    "        \n",
    "    truth = test_dic[uid]\n",
    "    temp_reco = [idx_to_iid[idx] for idx in reco]\n",
    "    catch_count_temp = len(set(temp_reco) & truth)\n",
    "    catch_count.append(catch_count_temp)"
   ]
  },
  {
   "cell_type": "code",
   "execution_count": 15,
   "metadata": {},
   "outputs": [],
   "source": [
    "acc = sum(catch_count) / len(test_df)"
   ]
  },
  {
   "cell_type": "code",
   "execution_count": 16,
   "metadata": {},
   "outputs": [
    {
     "name": "stdout",
     "output_type": "stream",
     "text": [
      "ALS 정확도: 0.0080\n"
     ]
    }
   ],
   "source": [
    "## 전체로 돌렸을 때 ALS 정확도: 0.0079\n",
    "print(f\"ALS 정확도: {acc:.4f}\")"
   ]
  }
 ],
 "metadata": {
  "kernelspec": {
   "display_name": "Python 3",
   "language": "python",
   "name": "python3"
  },
  "language_info": {
   "codemirror_mode": {
    "name": "ipython",
    "version": 3
   },
   "file_extension": ".py",
   "mimetype": "text/x-python",
   "name": "python",
   "nbconvert_exporter": "python",
   "pygments_lexer": "ipython3",
   "version": "3.8.5"
  }
 },
 "nbformat": 4,
 "nbformat_minor": 4
}
