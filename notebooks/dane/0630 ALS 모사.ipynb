{
 "cells": [
  {
   "cell_type": "code",
   "execution_count": 1,
   "metadata": {},
   "outputs": [],
   "source": [
    "from datetime import timedelta\n",
    "\n",
    "import implicit\n",
    "import numpy as np\n",
    "import pandas as pd\n",
    "import seaborn as sns\n",
    "import matplotlib.pyplot as plt\n",
    "from tqdm import tqdm\n",
    "from scipy.sparse import csr_matrix, coo_matrix\n",
    "\n",
    "from utils import train_test_split"
   ]
  },
  {
   "cell_type": "code",
   "execution_count": 2,
   "metadata": {},
   "outputs": [],
   "source": [
    "df = pd.read_csv(\"./transactions_train.csv\")\n",
    "articles = pd.read_csv(\"./articles.csv\")\n",
    "\n",
    "df.t_dat = pd.to_datetime(df.t_dat)"
   ]
  },
  {
   "cell_type": "markdown",
   "metadata": {},
   "source": [
    "### 최근 3개월로 한정"
   ]
  },
  {
   "cell_type": "code",
   "execution_count": 3,
   "metadata": {},
   "outputs": [
    {
     "name": "stdout",
     "output_type": "stream",
     "text": [
      "기존 데이터 수: 31,788,324\n",
      "최근 3개월 데이터 수: 3,904,391\n"
     ]
    }
   ],
   "source": [
    "print(f\"기존 데이터 수: {len(df):,}\")\n",
    "last_90_days = df.t_dat.max() - timedelta(days=90)\n",
    "df = df[df.t_dat >= last_90_days]\n",
    "print(f\"최근 3개월 데이터 수: {len(df):,}\")"
   ]
  },
  {
   "cell_type": "code",
   "execution_count": 4,
   "metadata": {},
   "outputs": [
    {
     "name": "stdout",
     "output_type": "stream",
     "text": [
      "train: 2020-06-24 ~ 2020-09-14\n",
      "test: 2020-09-15 ~ 2020-09-22\n"
     ]
    }
   ],
   "source": [
    "train_df, test_df = train_test_split(df)"
   ]
  },
  {
   "cell_type": "markdown",
   "metadata": {},
   "source": [
    "### Preprocess"
   ]
  },
  {
   "cell_type": "code",
   "execution_count": 5,
   "metadata": {},
   "outputs": [
    {
     "name": "stderr",
     "output_type": "stream",
     "text": [
      "<ipython-input-5-84eaa67298d2>:10: SettingWithCopyWarning: \n",
      "A value is trying to be set on a copy of a slice from a DataFrame.\n",
      "Try using .loc[row_indexer,col_indexer] = value instead\n",
      "\n",
      "See the caveats in the documentation: https://pandas.pydata.org/pandas-docs/stable/user_guide/indexing.html#returning-a-view-versus-a-copy\n",
      "  train_df['user_id'] = train_df['customer_id'].map(user_map)\n",
      "<ipython-input-5-84eaa67298d2>:11: SettingWithCopyWarning: \n",
      "A value is trying to be set on a copy of a slice from a DataFrame.\n",
      "Try using .loc[row_indexer,col_indexer] = value instead\n",
      "\n",
      "See the caveats in the documentation: https://pandas.pydata.org/pandas-docs/stable/user_guide/indexing.html#returning-a-view-versus-a-copy\n",
      "  train_df['item_id'] = train_df['article_id'].map(item_map)\n"
     ]
    }
   ],
   "source": [
    "ALL_USERS = df['customer_id'].unique().tolist()\n",
    "ALL_ITEMS = df['article_id'].unique().tolist()\n",
    "\n",
    "user_ids = dict(list(enumerate(ALL_USERS)))\n",
    "item_ids = dict(list(enumerate(ALL_ITEMS)))\n",
    "\n",
    "user_map = {u: uidx for uidx, u in user_ids.items()}\n",
    "item_map = {i: iidx for iidx, i in item_ids.items()}\n",
    "\n",
    "train_df['user_id'] = train_df['customer_id'].map(user_map)\n",
    "train_df['item_id'] = train_df['article_id'].map(item_map)"
   ]
  },
  {
   "cell_type": "code",
   "execution_count": 6,
   "metadata": {},
   "outputs": [],
   "source": [
    "def to_user_item_coo(df):\n",
    "    \"\"\" Turn a dataframe with transactions into a COO sparse items x users matrix\"\"\"\n",
    "    row = df['user_id'].values\n",
    "    col = df['item_id'].values\n",
    "    data = np.ones(df.shape[0])\n",
    "    coo = coo_matrix((data, (row, col)), shape=(len(ALL_USERS), len(ALL_ITEMS)))\n",
    "    return coo\n",
    "\n",
    "def train(coo_train, factors=200, iterations=15, regularization=0.01, show_progress=True):\n",
    "    model = implicit.als.AlternatingLeastSquares(factors=factors, \n",
    "                                                 iterations=iterations, \n",
    "                                                 regularization=regularization, \n",
    "                                                 random_state=42)\n",
    "    model.fit(coo_train, show_progress=show_progress)\n",
    "    return model"
   ]
  },
  {
   "cell_type": "code",
   "execution_count": 7,
   "metadata": {},
   "outputs": [],
   "source": [
    "coo_train = to_user_item_coo(train_df)\n",
    "csr_train = coo_train.tocsr()"
   ]
  },
  {
   "cell_type": "code",
   "execution_count": 8,
   "metadata": {},
   "outputs": [
    {
     "name": "stderr",
     "output_type": "stream",
     "text": [
      "/Users/kakao/opt/anaconda3/lib/python3.8/site-packages/implicit/utils.py:31: UserWarning: Intel MKL BLAS detected. Its highly recommend to set the environment variable 'export MKL_NUM_THREADS=1' to disable its internal multithreading\n",
      "  warnings.warn(\n"
     ]
    },
    {
     "data": {
      "application/vnd.jupyter.widget-view+json": {
       "model_id": "db4e63650add4192b202d5988e8cd3d4",
       "version_major": 2,
       "version_minor": 0
      },
      "text/plain": [
       "HBox(children=(HTML(value=''), FloatProgress(value=0.0, max=3.0), HTML(value='')))"
      ]
     },
     "metadata": {},
     "output_type": "display_data"
    },
    {
     "name": "stdout",
     "output_type": "stream",
     "text": [
      "\n"
     ]
    }
   ],
   "source": [
    "best_params = {'factors': 500, 'iterations': 3, 'regularization': 0.01}\n",
    "model = train(coo_train, **best_params)"
   ]
  },
  {
   "cell_type": "code",
   "execution_count": 9,
   "metadata": {},
   "outputs": [
    {
     "name": "stderr",
     "output_type": "stream",
     "text": [
      "100%|██████████| 263/263 [03:04<00:00,  1.43it/s]\n"
     ]
    }
   ],
   "source": [
    "preds = []\n",
    "batch_size = 2000\n",
    "to_generate = np.arange(len(ALL_USERS))\n",
    "for startidx in tqdm(range(0, len(to_generate), batch_size)):\n",
    "    batch = to_generate[startidx : startidx + batch_size]\n",
    "    ids, scores = model.recommend(batch, csr_train[batch], N=12, filter_already_liked_items=False)\n",
    "    for i, userid in enumerate(batch):\n",
    "        customer_id = user_ids[userid]\n",
    "        user_items = ids[i]\n",
    "        article_ids = [item_ids[item_id] for item_id in user_items]\n",
    "        preds.append((customer_id, ' '.join([str(i) for i in article_ids])))\n",
    "\n",
    "df_preds = pd.DataFrame(preds, columns=['customer_id', 'prediction'])"
   ]
  },
  {
   "cell_type": "code",
   "execution_count": 10,
   "metadata": {},
   "outputs": [],
   "source": [
    "df_preds = df_preds.set_index(\"customer_id\")"
   ]
  },
  {
   "cell_type": "code",
   "execution_count": 11,
   "metadata": {},
   "outputs": [
    {
     "data": {
      "text/html": [
       "<div>\n",
       "<style scoped>\n",
       "    .dataframe tbody tr th:only-of-type {\n",
       "        vertical-align: middle;\n",
       "    }\n",
       "\n",
       "    .dataframe tbody tr th {\n",
       "        vertical-align: top;\n",
       "    }\n",
       "\n",
       "    .dataframe thead th {\n",
       "        text-align: right;\n",
       "    }\n",
       "</style>\n",
       "<table border=\"1\" class=\"dataframe\">\n",
       "  <thead>\n",
       "    <tr style=\"text-align: right;\">\n",
       "      <th></th>\n",
       "      <th>prediction</th>\n",
       "    </tr>\n",
       "    <tr>\n",
       "      <th>customer_id</th>\n",
       "      <th></th>\n",
       "    </tr>\n",
       "  </thead>\n",
       "  <tbody>\n",
       "    <tr>\n",
       "      <th>0001b0127d3e5ff8dadcfc6e5043682dba2070f2667081623faeb31c996242a6</th>\n",
       "      <td>791587001 559630029 844409002 739590038 834217...</td>\n",
       "    </tr>\n",
       "    <tr>\n",
       "      <th>000493dd9fc463df1acc2081450c9e75ef8e87d5dd17ed6396773839f6bf71a9</th>\n",
       "      <td>733749001 816588001 556255001 733749010 556260...</td>\n",
       "    </tr>\n",
       "    <tr>\n",
       "      <th>000934651054f08396856cd83fad3b36b97ab95a0baf79cf86769e92bf3fef40</th>\n",
       "      <td>610776002 863595006 845790006 845790001 842112...</td>\n",
       "    </tr>\n",
       "    <tr>\n",
       "      <th>000c742a054f1180117024953ea31c3fa65eb47e69990a405f4fc5a2d3fbe6aa</th>\n",
       "      <td>610776001 685816001 816423002 859105006 865076...</td>\n",
       "    </tr>\n",
       "    <tr>\n",
       "      <th>000da6daeb90ef9a70238bf9b1aa54c7ce40a5e0fcf2207011806ee379bd089b</th>\n",
       "      <td>882760001 882760003 882760005 850984001 850984...</td>\n",
       "    </tr>\n",
       "    <tr>\n",
       "      <th>...</th>\n",
       "      <td>...</td>\n",
       "    </tr>\n",
       "    <tr>\n",
       "      <th>ff5b8a8b26bf93a66290e9bd1b73393ac6a58968a7851941508cce49f5dfa469</th>\n",
       "      <td>699923113 842112001 842112005 681381003 834368...</td>\n",
       "    </tr>\n",
       "    <tr>\n",
       "      <th>ff6f55a51af284b71dcd264396b299e548f968c1769e71148763bd4fce26b40d</th>\n",
       "      <td>699923113 842112001 842112005 681381003 834368...</td>\n",
       "    </tr>\n",
       "    <tr>\n",
       "      <th>ff732b98019465f078144bae647d7d9765d76e3431ef926a7c5064783f7027a6</th>\n",
       "      <td>699923113 842112001 842112005 681381003 834368...</td>\n",
       "    </tr>\n",
       "    <tr>\n",
       "      <th>ffb72741f3bc3d98855703b55d34e05bc7893a5d6a99a3758cc7fa0cf65ba441</th>\n",
       "      <td>699923113 842112001 842112005 681381003 834368...</td>\n",
       "    </tr>\n",
       "    <tr>\n",
       "      <th>ffc92c3f7b0b302f393c2968b290f6e5c5b5510d1cf1dfd2f8586a5ce3ce8bf4</th>\n",
       "      <td>699923113 842112001 842112005 681381003 834368...</td>\n",
       "    </tr>\n",
       "  </tbody>\n",
       "</table>\n",
       "<p>525075 rows × 1 columns</p>\n",
       "</div>"
      ],
      "text/plain": [
       "                                                                                           prediction\n",
       "customer_id                                                                                          \n",
       "0001b0127d3e5ff8dadcfc6e5043682dba2070f26670816...  791587001 559630029 844409002 739590038 834217...\n",
       "000493dd9fc463df1acc2081450c9e75ef8e87d5dd17ed6...  733749001 816588001 556255001 733749010 556260...\n",
       "000934651054f08396856cd83fad3b36b97ab95a0baf79c...  610776002 863595006 845790006 845790001 842112...\n",
       "000c742a054f1180117024953ea31c3fa65eb47e69990a4...  610776001 685816001 816423002 859105006 865076...\n",
       "000da6daeb90ef9a70238bf9b1aa54c7ce40a5e0fcf2207...  882760001 882760003 882760005 850984001 850984...\n",
       "...                                                                                               ...\n",
       "ff5b8a8b26bf93a66290e9bd1b73393ac6a58968a785194...  699923113 842112001 842112005 681381003 834368...\n",
       "ff6f55a51af284b71dcd264396b299e548f968c1769e711...  699923113 842112001 842112005 681381003 834368...\n",
       "ff732b98019465f078144bae647d7d9765d76e3431ef926...  699923113 842112001 842112005 681381003 834368...\n",
       "ffb72741f3bc3d98855703b55d34e05bc7893a5d6a99a37...  699923113 842112001 842112005 681381003 834368...\n",
       "ffc92c3f7b0b302f393c2968b290f6e5c5b5510d1cf1dfd...  699923113 842112001 842112005 681381003 834368...\n",
       "\n",
       "[525075 rows x 1 columns]"
      ]
     },
     "execution_count": 11,
     "metadata": {},
     "output_type": "execute_result"
    }
   ],
   "source": [
    "df_preds"
   ]
  },
  {
   "cell_type": "code",
   "execution_count": 12,
   "metadata": {},
   "outputs": [
    {
     "name": "stderr",
     "output_type": "stream",
     "text": [
      "100%|██████████| 75481/75481 [00:08<00:00, 9423.64it/s]\n"
     ]
    }
   ],
   "source": [
    "res = []\n",
    "for customer_id, group in tqdm(test_df.groupby(\"customer_id\")):\n",
    "\n",
    "    pred = set([int(i) for i in df_preds.loc[customer_id].prediction.split()])\n",
    "    truth = set(group.article_id)\n",
    "    catched = pred & truth\n",
    "    \n",
    "    res.append([len(truth), len(catched)])"
   ]
  },
  {
   "cell_type": "code",
   "execution_count": 13,
   "metadata": {},
   "outputs": [],
   "source": [
    "eval_df = pd.DataFrame(res, columns=[\"total\", \"catch\"])"
   ]
  },
  {
   "cell_type": "code",
   "execution_count": 14,
   "metadata": {},
   "outputs": [
    {
     "data": {
      "text/plain": [
       "0.020796882791963553"
      ]
     },
     "execution_count": 14,
     "metadata": {},
     "output_type": "execute_result"
    }
   ],
   "source": [
    "eval_df.catch.sum() / eval_df.total.sum()"
   ]
  },
  {
   "cell_type": "code",
   "execution_count": 15,
   "metadata": {},
   "outputs": [],
   "source": [
    "res = []\n",
    "for total_count, group in eval_df.groupby(\"total\"):\n",
    "    res.append([total_count, group.catch.sum(), group.total.sum()])\n",
    "\n",
    "eval_by_total = pd.DataFrame(res, columns=[\"total_count\", \"catch_sum\", \"total_sum\"])\n",
    "eval_by_total = eval_by_total.assign(catch_ratio = eval_by_total.catch_sum / eval_by_total.total_sum)"
   ]
  },
  {
   "cell_type": "code",
   "execution_count": 16,
   "metadata": {},
   "outputs": [
    {
     "data": {
      "text/plain": [
       "[<matplotlib.lines.Line2D at 0x7ff4f4410850>]"
      ]
     },
     "execution_count": 16,
     "metadata": {},
     "output_type": "execute_result"
    },
    {
     "data": {
      "image/png": "[encoded data removed]",
      "text/plain": [
       "<Figure size 432x288 with 1 Axes>"
      ]
     },
     "metadata": {
      "needs_background": "light"
     },
     "output_type": "display_data"
    }
   ],
   "source": [
    "plt.plot(eval_by_total.total_count, eval_by_total.catch_ratio)"
   ]
  },
  {
   "cell_type": "markdown",
   "metadata": {},
   "source": [
    "### 제출용"
   ]
  },
  {
   "cell_type": "code",
   "execution_count": 24,
   "metadata": {},
   "outputs": [],
   "source": [
    "ALL_USERS = df['customer_id'].unique().tolist()\n",
    "ALL_ITEMS = df['article_id'].unique().tolist()\n",
    "\n",
    "user_ids = dict(list(enumerate(ALL_USERS)))\n",
    "item_ids = dict(list(enumerate(ALL_ITEMS)))\n",
    "\n",
    "user_map = {u: uidx for uidx, u in user_ids.items()}\n",
    "item_map = {i: iidx for iidx, i in item_ids.items()}"
   ]
  },
  {
   "cell_type": "code",
   "execution_count": 27,
   "metadata": {},
   "outputs": [],
   "source": [
    "df['user_id'] = df['customer_id'].map(user_map)\n",
    "df['item_id'] = df['article_id'].map(item_map)"
   ]
  },
  {
   "cell_type": "code",
   "execution_count": 28,
   "metadata": {},
   "outputs": [],
   "source": [
    "coo_train = to_user_item_coo(df)\n",
    "csr_train = coo_train.tocsr()"
   ]
  },
  {
   "cell_type": "code",
   "execution_count": 29,
   "metadata": {},
   "outputs": [
    {
     "data": {
      "application/vnd.jupyter.widget-view+json": {
       "model_id": "4dee4739096b4ac19141d30f19aedf04",
       "version_major": 2,
       "version_minor": 0
      },
      "text/plain": [
       "HBox(children=(HTML(value=''), FloatProgress(value=0.0, max=3.0), HTML(value='')))"
      ]
     },
     "metadata": {},
     "output_type": "display_data"
    },
    {
     "name": "stdout",
     "output_type": "stream",
     "text": [
      "\n"
     ]
    }
   ],
   "source": [
    "best_params = {'factors': 500, 'iterations': 3, 'regularization': 0.01}\n",
    "model = train(coo_train, **best_params)"
   ]
  },
  {
   "cell_type": "code",
   "execution_count": 53,
   "metadata": {},
   "outputs": [
    {
     "name": "stderr",
     "output_type": "stream",
     "text": [
      "100%|██████████| 263/263 [03:09<00:00,  1.39it/s]\n"
     ]
    }
   ],
   "source": [
    "preds = []\n",
    "batch_size = 2000\n",
    "to_generate = np.arange(len(ALL_USERS))\n",
    "for startidx in tqdm(range(0, len(to_generate), batch_size)):\n",
    "    batch = to_generate[startidx : startidx + batch_size]\n",
    "    ids, scores = model.recommend(batch, csr_train[batch], N=12, filter_already_liked_items=False)\n",
    "    for i, userid in enumerate(batch):\n",
    "        customer_id = user_ids[userid]\n",
    "        user_items = ids[i]\n",
    "        article_ids = [item_ids[item_id] for item_id in user_items]\n",
    "        preds.append((customer_id, ' '.join([str(i).zfill(10) for i in article_ids])))\n",
    "df_preds = pd.DataFrame(preds, columns=['customer_id', 'prediction'])"
   ]
  },
  {
   "cell_type": "code",
   "execution_count": 54,
   "metadata": {},
   "outputs": [],
   "source": [
    "popular_1day_by_age = pd.read_csv(\"submissions/popular_1day_by_age.csv\")"
   ]
  },
  {
   "cell_type": "code",
   "execution_count": 55,
   "metadata": {},
   "outputs": [],
   "source": [
    "df_preds = df_preds.rename(columns={\"prediction\":\"prediction_als\"})"
   ]
  },
  {
   "cell_type": "code",
   "execution_count": 56,
   "metadata": {},
   "outputs": [],
   "source": [
    "popular_1day_by_age = popular_1day_by_age.merge(df_preds, on=\"customer_id\", how=\"left\")"
   ]
  },
  {
   "cell_type": "code",
   "execution_count": 59,
   "metadata": {},
   "outputs": [],
   "source": [
    "popular_1day_by_age.prediction_als = popular_1day_by_age.prediction_als.fillna(popular_1day_by_age.prediction)"
   ]
  },
  {
   "cell_type": "code",
   "execution_count": 60,
   "metadata": {},
   "outputs": [],
   "source": [
    "popular_1day_by_age.prediction = popular_1day_by_age.prediction_als"
   ]
  },
  {
   "cell_type": "code",
   "execution_count": 62,
   "metadata": {},
   "outputs": [],
   "source": [
    "popular_1day_by_age = popular_1day_by_age.drop(\"prediction_als\", axis=1)"
   ]
  },
  {
   "cell_type": "code",
   "execution_count": 64,
   "metadata": {},
   "outputs": [],
   "source": [
    "popular_1day_by_age.to_csv(\"./submissions/als.csv\", index=False)"
   ]
  },
  {
   "cell_type": "markdown",
   "metadata": {},
   "source": [
    "### 최근 1주일간 판매가 있었던 것을 상위로"
   ]
  },
  {
   "cell_type": "code",
   "execution_count": null,
   "metadata": {},
   "outputs": [],
   "source": [
    "preds = []\n",
    "batch_size = 2000\n",
    "to_generate = np.arange(len(ALL_USERS))\n",
    "for startidx in tqdm(range(0, len(to_generate), batch_size)):\n",
    "    batch = to_generate[startidx : startidx + batch_size]\n",
    "    ids, scores = model.recommend(batch, csr_train[batch], N=50, filter_already_liked_items=False)\n",
    "    for i, userid in enumerate(batch):\n",
    "        customer_id = user_ids[userid]\n",
    "        user_items = ids[i]\n",
    "        article_ids = [item_ids[item_id] for item_id in user_items]\n",
    "        preds.append((customer_id, ' '.join([str(i) for i in article_ids])))\n",
    "\n",
    "df_preds = pd.DataFrame(preds, columns=['customer_id', 'prediction'])"
   ]
  },
  {
   "cell_type": "code",
   "execution_count": null,
   "metadata": {},
   "outputs": [],
   "source": []
  },
  {
   "cell_type": "code",
   "execution_count": null,
   "metadata": {},
   "outputs": [],
   "source": []
  }
 ],
 "metadata": {
  "kernelspec": {
   "display_name": "Python 3",
   "language": "python",
   "name": "python3"
  },
  "language_info": {
   "codemirror_mode": {
    "name": "ipython",
    "version": 3
   },
   "file_extension": ".py",
   "mimetype": "text/x-python",
   "name": "python",
   "nbconvert_exporter": "python",
   "pygments_lexer": "ipython3",
   "version": "3.8.5"
  }
 },
 "nbformat": 4,
 "nbformat_minor": 4
}
