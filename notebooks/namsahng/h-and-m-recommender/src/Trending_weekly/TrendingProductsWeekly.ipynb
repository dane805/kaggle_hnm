{
 "cells": [
  {
   "cell_type": "markdown",
   "id": "91fe74c3",
   "metadata": {},
   "source": [
    "# Kaggle - Trending Products Weekly\n",
    "\n",
    "- References:\n",
    "    - https://www.kaggle.com/code/byfone/h-m-trending-products-weekly\n",
    "    - https://www.kaggle.com/code/hervind/h-m-faster-trending-products-weekly/notebook\n",
    "    - https://www.kaggle.com/code/byfone/h-m-purchases-in-a-row/notebook\n",
    "\n",
    "\n"
   ]
  },
  {
   "cell_type": "code",
   "execution_count": 1,
   "id": "827e342e",
   "metadata": {},
   "outputs": [],
   "source": [
    "import os\n",
    "import gc\n",
    "\n",
    "import numpy as np\n",
    "import pandas as pd\n",
    "import matplotlib.pyplot as plt\n",
    "\n",
    "from tqdm import tqdm\n",
    "from scipy.optimize import curve_fit\n",
    "from joblib import dump, load\n",
    "\n",
    "\n",
    "tqdm.pandas()\n"
   ]
  },
  {
   "cell_type": "code",
   "execution_count": 19,
   "id": "8692c15b",
   "metadata": {},
   "outputs": [],
   "source": [
    "sample_folder = './h-and-m-personalized-fashion-recommendations/sampled_data/'\n",
    "df = pd.read_csv(os.path.join(sample_folder, 'train_0.csv'))\n",
    "valid_sample = pd.read_csv(os.path.join(sample_folder, 'valid_0.csv'))\n",
    "\n",
    "folder = './h-and-m-personalized-fashion-recommendations/'\n",
    "le_articles = load(os.path.join(folder, 'le_articles.joblib'))\n",
    "le_customers = load(os.path.join(folder, 'le_customers.joblib'))\n",
    "\n"
   ]
  },
  {
   "cell_type": "code",
   "execution_count": 20,
   "id": "145ffacf",
   "metadata": {},
   "outputs": [],
   "source": [
    "df['customer_id'] = le_customers.transform(df['customer_id'])\n",
    "df['article_id'] = le_articles.transform(df['article_id'])\n",
    "\n",
    "df['article_id'] = df['article_id'].astype(np.int32)\n",
    "df['customer_id'] = df['customer_id'].astype(np.int32)\n",
    "df['sales_channel_id'] = df['sales_channel_id'].astype('int8')\n",
    "df['price'] = df['price'].astype('float32')\n",
    "\n",
    "df['t_dat'] = pd.to_datetime(df['t_dat'])"
   ]
  },
  {
   "cell_type": "code",
   "execution_count": 23,
   "id": "0e9ef2a3",
   "metadata": {},
   "outputs": [],
   "source": [
    "gb = df.groupby(['customer_id', 'article_id'])['t_dat'].nunique()\n",
    "inx = gb[gb>1].index\n",
    "\n",
    "df = df.set_index(['customer_id', 'article_id'])\n",
    "df = df.loc[inx].copy().sort_index()\n",
    "\n",
    "df['shift_dat'] = df.groupby(level=[0,1])['t_dat'].shift(1)\n",
    "df['dist'] = (df['t_dat'] - df['shift_dat']).dt.days\n",
    "dist = df.loc[df['dist'].notna(), 'dist'].values\n",
    "vc = df['dist'].value_counts()\n",
    "vc = vc[1:]"
   ]
  },
  {
   "cell_type": "code",
   "execution_count": 25,
   "id": "62c7c1ea",
   "metadata": {},
   "outputs": [
    {
     "name": "stderr",
     "output_type": "stream",
     "text": [
      "/var/folders/fl/l7bfgt6j3lz29pwdkr0_537r0000gn/T/ipykernel_29792/917143793.py:2: RuntimeWarning: overflow encountered in exp\n",
      "  return a / np.sqrt(x) + b * np.exp(-c*x) + d\n"
     ]
    },
    {
     "data": {
      "image/png": "[encoded data removed]",
      "text/plain": [
       "<Figure size 432x288 with 1 Axes>"
      ]
     },
     "metadata": {
      "needs_background": "light"
     },
     "output_type": "display_data"
    }
   ],
   "source": [
    "def func(x, a, b, c, d):\n",
    "    return a / np.sqrt(x) + b * np.exp(-c*x) + d\n",
    "# vc.index : 재구매 일수\n",
    "# vc.values : 재구매 일수 별 횟수\n",
    "popt, pcov = curve_fit(func, vc.index, vc.values)\n",
    "\n",
    "plt.plot(vc.index[:100], vc.values[:100], 'b-', label='data')\n",
    "plt.plot(vc.index[:100], func(vc.index[:100], *popt), 'r-',\n",
    "         label='fit: a=%5.3f, b=%5.3f, c=%5.3f, d=%5.3f' % tuple(popt))\n",
    "\n",
    "plt.xlabel('x')\n",
    "plt.ylabel('y')\n",
    "plt.legend()\n",
    "plt.show()"
   ]
  },
  {
   "cell_type": "code",
   "execution_count": 26,
   "id": "87197cdc",
   "metadata": {},
   "outputs": [],
   "source": [
    "df = df.reset_index()\n"
   ]
  },
  {
   "cell_type": "code",
   "execution_count": 27,
   "id": "b4e93fe1",
   "metadata": {},
   "outputs": [],
   "source": [
    "N = 12\n",
    "\n",
    "last_ts = df['t_dat'].max()\n",
    "\n",
    "tmp = df[['t_dat']].copy()\n",
    "tmp['dow'] = tmp['t_dat'].dt.dayofweek\n",
    "#  Monday=0, Sunday=6"
   ]
  },
  {
   "cell_type": "code",
   "execution_count": 28,
   "id": "4b335613",
   "metadata": {},
   "outputs": [
    {
     "data": {
      "text/plain": [
       "Timestamp('2020-09-15 00:00:00')"
      ]
     },
     "execution_count": 28,
     "metadata": {},
     "output_type": "execute_result"
    }
   ],
   "source": [
    "last_ts"
   ]
  },
  {
   "cell_type": "code",
   "execution_count": 29,
   "id": "a2ba9b07",
   "metadata": {},
   "outputs": [
    {
     "data": {
      "text/html": [
       "<div>\n",
       "<style scoped>\n",
       "    .dataframe tbody tr th:only-of-type {\n",
       "        vertical-align: middle;\n",
       "    }\n",
       "\n",
       "    .dataframe tbody tr th {\n",
       "        vertical-align: top;\n",
       "    }\n",
       "\n",
       "    .dataframe thead th {\n",
       "        text-align: right;\n",
       "    }\n",
       "</style>\n",
       "<table border=\"1\" class=\"dataframe\">\n",
       "  <thead>\n",
       "    <tr style=\"text-align: right;\">\n",
       "      <th></th>\n",
       "      <th>t_dat</th>\n",
       "      <th>dow</th>\n",
       "    </tr>\n",
       "  </thead>\n",
       "  <tbody>\n",
       "    <tr>\n",
       "      <th>0</th>\n",
       "      <td>2019-05-07</td>\n",
       "      <td>1</td>\n",
       "    </tr>\n",
       "    <tr>\n",
       "      <th>1</th>\n",
       "      <td>2019-06-18</td>\n",
       "      <td>1</td>\n",
       "    </tr>\n",
       "    <tr>\n",
       "      <th>2</th>\n",
       "      <td>2020-04-22</td>\n",
       "      <td>2</td>\n",
       "    </tr>\n",
       "    <tr>\n",
       "      <th>3</th>\n",
       "      <td>2018-09-21</td>\n",
       "      <td>4</td>\n",
       "    </tr>\n",
       "    <tr>\n",
       "      <th>4</th>\n",
       "      <td>2018-09-27</td>\n",
       "      <td>3</td>\n",
       "    </tr>\n",
       "  </tbody>\n",
       "</table>\n",
       "</div>"
      ],
      "text/plain": [
       "       t_dat  dow\n",
       "0 2019-05-07    1\n",
       "1 2019-06-18    1\n",
       "2 2020-04-22    2\n",
       "3 2018-09-21    4\n",
       "4 2018-09-27    3"
      ]
     },
     "execution_count": 29,
     "metadata": {},
     "output_type": "execute_result"
    }
   ],
   "source": [
    "tmp.head()"
   ]
  },
  {
   "cell_type": "code",
   "execution_count": 31,
   "id": "5b727b70",
   "metadata": {},
   "outputs": [
    {
     "data": {
      "text/html": [
       "<div>\n",
       "<style scoped>\n",
       "    .dataframe tbody tr th:only-of-type {\n",
       "        vertical-align: middle;\n",
       "    }\n",
       "\n",
       "    .dataframe tbody tr th {\n",
       "        vertical-align: top;\n",
       "    }\n",
       "\n",
       "    .dataframe thead th {\n",
       "        text-align: right;\n",
       "    }\n",
       "</style>\n",
       "<table border=\"1\" class=\"dataframe\">\n",
       "  <thead>\n",
       "    <tr style=\"text-align: right;\">\n",
       "      <th></th>\n",
       "      <th>customer_id</th>\n",
       "      <th>article_id</th>\n",
       "      <th>t_dat</th>\n",
       "      <th>price</th>\n",
       "      <th>sales_channel_id</th>\n",
       "      <th>week_num</th>\n",
       "      <th>shift_dat</th>\n",
       "      <th>dist</th>\n",
       "    </tr>\n",
       "  </thead>\n",
       "  <tbody>\n",
       "    <tr>\n",
       "      <th>0</th>\n",
       "      <td>1</td>\n",
       "      <td>1469</td>\n",
       "      <td>2019-05-07</td>\n",
       "      <td>0.022017</td>\n",
       "      <td>2</td>\n",
       "      <td>72</td>\n",
       "      <td>NaT</td>\n",
       "      <td>NaN</td>\n",
       "    </tr>\n",
       "    <tr>\n",
       "      <th>1</th>\n",
       "      <td>1</td>\n",
       "      <td>1469</td>\n",
       "      <td>2019-06-18</td>\n",
       "      <td>0.022017</td>\n",
       "      <td>2</td>\n",
       "      <td>66</td>\n",
       "      <td>2019-05-07</td>\n",
       "      <td>42.0</td>\n",
       "    </tr>\n",
       "    <tr>\n",
       "      <th>2</th>\n",
       "      <td>1</td>\n",
       "      <td>1469</td>\n",
       "      <td>2020-04-22</td>\n",
       "      <td>0.016932</td>\n",
       "      <td>2</td>\n",
       "      <td>21</td>\n",
       "      <td>2019-06-18</td>\n",
       "      <td>309.0</td>\n",
       "    </tr>\n",
       "    <tr>\n",
       "      <th>3</th>\n",
       "      <td>1</td>\n",
       "      <td>19333</td>\n",
       "      <td>2018-09-21</td>\n",
       "      <td>0.067780</td>\n",
       "      <td>2</td>\n",
       "      <td>104</td>\n",
       "      <td>NaT</td>\n",
       "      <td>NaN</td>\n",
       "    </tr>\n",
       "    <tr>\n",
       "      <th>4</th>\n",
       "      <td>1</td>\n",
       "      <td>19333</td>\n",
       "      <td>2018-09-27</td>\n",
       "      <td>0.067780</td>\n",
       "      <td>2</td>\n",
       "      <td>103</td>\n",
       "      <td>2018-09-21</td>\n",
       "      <td>6.0</td>\n",
       "    </tr>\n",
       "  </tbody>\n",
       "</table>\n",
       "</div>"
      ],
      "text/plain": [
       "   customer_id  article_id      t_dat     price  sales_channel_id  week_num  \\\n",
       "0            1        1469 2019-05-07  0.022017                 2        72   \n",
       "1            1        1469 2019-06-18  0.022017                 2        66   \n",
       "2            1        1469 2020-04-22  0.016932                 2        21   \n",
       "3            1       19333 2018-09-21  0.067780                 2       104   \n",
       "4            1       19333 2018-09-27  0.067780                 2       103   \n",
       "\n",
       "   shift_dat   dist  \n",
       "0        NaT    NaN  \n",
       "1 2019-05-07   42.0  \n",
       "2 2019-06-18  309.0  \n",
       "3        NaT    NaN  \n",
       "4 2018-09-21    6.0  "
      ]
     },
     "execution_count": 31,
     "metadata": {},
     "output_type": "execute_result"
    }
   ],
   "source": [
    "df.head()"
   ]
  },
  {
   "cell_type": "code",
   "execution_count": 32,
   "id": "a1d5943f",
   "metadata": {},
   "outputs": [],
   "source": [
    "tmp['ldbw'] = tmp['t_dat'] - pd.TimedeltaIndex(tmp['dow'] - 1, unit='D')\n",
    "tmp.loc[tmp['dow'] >=2 , 'ldbw'] + \n",
    "pd.TimedeltaIndex(np.ones(len(tmp.loc[tmp['dow'] >=2])) * 7, unit='D')\n",
    "tmp.loc[tmp['dow'] >=2 , 'ldbw'] = tmp.loc[tmp['dow'] >=2 , 'ldbw'] + \\\n",
    "        pd.TimedeltaIndex(np.ones(len(tmp.loc[tmp['dow'] >=2])) * 7, unit='D')\n"
   ]
  },
  {
   "cell_type": "code",
   "execution_count": 44,
   "id": "1ca3ebfb",
   "metadata": {},
   "outputs": [],
   "source": [
    "df['ldbw'] = tmp['ldbw'].values\n",
    "# lbdw: 마지막 날짜인 화요일이기 때문에, 이번주 수~ 다음주 월요일 -> 다음주 화요일(1)의 날짜로 설정"
   ]
  },
  {
   "cell_type": "code",
   "execution_count": 45,
   "id": "c973cf0e",
   "metadata": {},
   "outputs": [],
   "source": [
    "\n",
    "weekly_sales = df.drop('customer_id', axis=1).groupby(['ldbw', 'article_id']).count().reset_index()\n",
    "weekly_sales = weekly_sales.rename(columns={'t_dat': 'count'})\n",
    "\n"
   ]
  },
  {
   "cell_type": "code",
   "execution_count": 48,
   "id": "d20e2d39",
   "metadata": {},
   "outputs": [],
   "source": [
    "weekly_sales = weekly_sales[['ldbw', 'article_id', 'count']]\n",
    "df = df.merge(weekly_sales, on=['ldbw', 'article_id'], how = 'left')\n"
   ]
  },
  {
   "cell_type": "code",
   "execution_count": 49,
   "id": "c5699045",
   "metadata": {},
   "outputs": [
    {
     "data": {
      "text/html": [
       "<div>\n",
       "<style scoped>\n",
       "    .dataframe tbody tr th:only-of-type {\n",
       "        vertical-align: middle;\n",
       "    }\n",
       "\n",
       "    .dataframe tbody tr th {\n",
       "        vertical-align: top;\n",
       "    }\n",
       "\n",
       "    .dataframe thead th {\n",
       "        text-align: right;\n",
       "    }\n",
       "</style>\n",
       "<table border=\"1\" class=\"dataframe\">\n",
       "  <thead>\n",
       "    <tr style=\"text-align: right;\">\n",
       "      <th></th>\n",
       "      <th>customer_id</th>\n",
       "      <th>article_id</th>\n",
       "      <th>t_dat</th>\n",
       "      <th>price</th>\n",
       "      <th>sales_channel_id</th>\n",
       "      <th>week_num</th>\n",
       "      <th>shift_dat</th>\n",
       "      <th>dist</th>\n",
       "      <th>ldbw</th>\n",
       "      <th>count</th>\n",
       "    </tr>\n",
       "  </thead>\n",
       "  <tbody>\n",
       "    <tr>\n",
       "      <th>0</th>\n",
       "      <td>1</td>\n",
       "      <td>1469</td>\n",
       "      <td>2019-05-07</td>\n",
       "      <td>0.022017</td>\n",
       "      <td>2</td>\n",
       "      <td>72</td>\n",
       "      <td>NaT</td>\n",
       "      <td>NaN</td>\n",
       "      <td>2019-05-07</td>\n",
       "      <td>52</td>\n",
       "    </tr>\n",
       "    <tr>\n",
       "      <th>1</th>\n",
       "      <td>1</td>\n",
       "      <td>1469</td>\n",
       "      <td>2019-06-18</td>\n",
       "      <td>0.022017</td>\n",
       "      <td>2</td>\n",
       "      <td>66</td>\n",
       "      <td>2019-05-07</td>\n",
       "      <td>42.0</td>\n",
       "      <td>2019-06-18</td>\n",
       "      <td>67</td>\n",
       "    </tr>\n",
       "    <tr>\n",
       "      <th>2</th>\n",
       "      <td>1</td>\n",
       "      <td>1469</td>\n",
       "      <td>2020-04-22</td>\n",
       "      <td>0.016932</td>\n",
       "      <td>2</td>\n",
       "      <td>21</td>\n",
       "      <td>2019-06-18</td>\n",
       "      <td>309.0</td>\n",
       "      <td>2020-04-28</td>\n",
       "      <td>86</td>\n",
       "    </tr>\n",
       "    <tr>\n",
       "      <th>3</th>\n",
       "      <td>1</td>\n",
       "      <td>19333</td>\n",
       "      <td>2018-09-21</td>\n",
       "      <td>0.067780</td>\n",
       "      <td>2</td>\n",
       "      <td>104</td>\n",
       "      <td>NaT</td>\n",
       "      <td>NaN</td>\n",
       "      <td>2018-09-25</td>\n",
       "      <td>6</td>\n",
       "    </tr>\n",
       "    <tr>\n",
       "      <th>4</th>\n",
       "      <td>1</td>\n",
       "      <td>19333</td>\n",
       "      <td>2018-09-27</td>\n",
       "      <td>0.067780</td>\n",
       "      <td>2</td>\n",
       "      <td>103</td>\n",
       "      <td>2018-09-21</td>\n",
       "      <td>6.0</td>\n",
       "      <td>2018-10-02</td>\n",
       "      <td>6</td>\n",
       "    </tr>\n",
       "  </tbody>\n",
       "</table>\n",
       "</div>"
      ],
      "text/plain": [
       "   customer_id  article_id      t_dat     price  sales_channel_id  week_num  \\\n",
       "0            1        1469 2019-05-07  0.022017                 2        72   \n",
       "1            1        1469 2019-06-18  0.022017                 2        66   \n",
       "2            1        1469 2020-04-22  0.016932                 2        21   \n",
       "3            1       19333 2018-09-21  0.067780                 2       104   \n",
       "4            1       19333 2018-09-27  0.067780                 2       103   \n",
       "\n",
       "   shift_dat   dist       ldbw  count  \n",
       "0        NaT    NaN 2019-05-07     52  \n",
       "1 2019-05-07   42.0 2019-06-18     67  \n",
       "2 2019-06-18  309.0 2020-04-28     86  \n",
       "3        NaT    NaN 2018-09-25      6  \n",
       "4 2018-09-21    6.0 2018-10-02      6  "
      ]
     },
     "execution_count": 49,
     "metadata": {},
     "output_type": "execute_result"
    }
   ],
   "source": [
    "df.head()"
   ]
  },
  {
   "cell_type": "code",
   "execution_count": 51,
   "id": "d62d5dc7",
   "metadata": {},
   "outputs": [],
   "source": [
    "weekly_sales = weekly_sales.reset_index().set_index('article_id')"
   ]
  },
  {
   "cell_type": "code",
   "execution_count": 54,
   "id": "5b639686",
   "metadata": {},
   "outputs": [],
   "source": [
    "df = df.merge(\n",
    "    weekly_sales.loc[weekly_sales['ldbw']==last_ts, ['count']],\n",
    "    on='article_id', suffixes=(\"\", \"_targ\"))\n"
   ]
  },
  {
   "cell_type": "code",
   "execution_count": 56,
   "id": "bba697fc",
   "metadata": {},
   "outputs": [],
   "source": [
    "# count: 이번 주에 해당 물품 팔린 횟수 \n",
    "# count_targ: 마지막 주에 해당 물품 팔린 횟수\n",
    "# quotient = count_targ / count\n",
    "\n",
    "df['count_targ'].fillna(0, inplace=True)\n",
    "del weekly_sales; gc.collect();\n",
    "df['quotient'] = df['count_targ'] / df['count']\n",
    "\n",
    "# target_sales = df.drop('customer_id', axis=1).groupby('article_id')['quotient'].sum()\n",
    "# general_pred = target_sales.nlargest(N).index.to_pandas().tolist()\n",
    "# general_pred = ['0' + str(article_id) for article_id in general_pred]\n",
    "# general_pred_str =  ' '.join(general_pred)\n",
    "# del target_sales"
   ]
  },
  {
   "cell_type": "code",
   "execution_count": 64,
   "id": "9026ccd3",
   "metadata": {},
   "outputs": [],
   "source": [
    "purchase_dict = {}\n",
    "\n",
    "# x : 마지막 날짜와 거래날짜의 차이 최소 1이 되도록\n",
    "tmp = df.copy()\n",
    "tmp['x'] = ((last_ts - tmp['t_dat']) / np.timedelta64(1, 'D')).astype(int)\n",
    "tmp['dummy_1'] = 1 \n",
    "tmp['x'] = tmp[[\"x\", \"dummy_1\"]].max(axis=1)\n",
    "\n"
   ]
  },
  {
   "cell_type": "code",
   "execution_count": 65,
   "id": "06d15206",
   "metadata": {},
   "outputs": [],
   "source": [
    "# 아래 식:  f(전체 재구매 상품에 대한 재구매 기간) = 재구매 횟수\n",
    "#         함수 f를 fitting\n",
    "# quotient = 마지막 주에 해당 물품 팔린 횟수 / 해당 주에 해당 물품 팔린 횟수 \n",
    "# value = 해당 상품 예상 재구매 횟수 * 마지막주에 해당상품 팔린 횟수 / 해당 주에 해당 물품 팔린 횟수 \n",
    "a, b, c, d = popt\n",
    "tmp['y'] = a / np.sqrt(tmp['x']) + b * np.exp(-c*tmp['x']) - d\n",
    "tmp['dummy_0'] = 0 \n",
    "tmp['y'] = tmp[[\"y\", \"dummy_0\"]].max(axis=1)\n",
    "tmp['value'] = tmp['quotient'] * tmp['y'] \n"
   ]
  },
  {
   "cell_type": "code",
   "execution_count": 71,
   "id": "0d08a3df",
   "metadata": {},
   "outputs": [
    {
     "data": {
      "text/plain": [
       "count    2.931440e+05\n",
       "mean     1.269612e+04\n",
       "std      4.108054e+04\n",
       "min      2.239681e+01\n",
       "25%      1.108353e+03\n",
       "50%      3.097917e+03\n",
       "75%      7.514277e+03\n",
       "max      6.975934e+06\n",
       "Name: value, dtype: float64"
      ]
     },
     "execution_count": 71,
     "metadata": {},
     "output_type": "execute_result"
    }
   ],
   "source": [
    "tmp.value.describe()"
   ]
  },
  {
   "cell_type": "code",
   "execution_count": 69,
   "id": "696a724e",
   "metadata": {},
   "outputs": [],
   "source": [
    "tmp = tmp.groupby(['customer_id', 'article_id']).agg({'value': 'sum'})\n",
    "tmp = tmp.reset_index()"
   ]
  },
  {
   "cell_type": "code",
   "execution_count": 74,
   "id": "ab99c3c5",
   "metadata": {},
   "outputs": [
    {
     "name": "stderr",
     "output_type": "stream",
     "text": [
      "/var/folders/fl/l7bfgt6j3lz29pwdkr0_537r0000gn/T/ipykernel_29792/528567860.py:2: SettingWithCopyWarning: \n",
      "A value is trying to be set on a copy of a slice from a DataFrame.\n",
      "Try using .loc[row_indexer,col_indexer] = value instead\n",
      "\n",
      "See the caveats in the documentation: https://pandas.pydata.org/pandas-docs/stable/user_guide/indexing.html#returning-a-view-versus-a-copy\n",
      "  tmp['rank'] = tmp.groupby(\"customer_id\")[\"value\"].rank(\"dense\", ascending=False)\n"
     ]
    }
   ],
   "source": [
    "\n",
    "tmp = tmp.loc[tmp['value'] > 100]\n",
    "tmp['rank'] = tmp.groupby(\"customer_id\")[\"value\"].rank(\"dense\", ascending=False)\n",
    "tmp = tmp.loc[tmp['rank'] <= 12]\n",
    "\n",
    "purchase_df = tmp.sort_values(['customer_id', 'value'], ascending = False).reset_index(drop = True)\n",
    "\n"
   ]
  },
  {
   "cell_type": "code",
   "execution_count": 75,
   "id": "84dc37c5",
   "metadata": {},
   "outputs": [],
   "source": [
    "purchase_df['customer_id'] = le_customers.inverse_transform(purchase_df['customer_id'])\n",
    "purchase_df['article_id'] = le_articles.inverse_transform(purchase_df['article_id'])"
   ]
  },
  {
   "cell_type": "code",
   "execution_count": 76,
   "id": "96bc2f59",
   "metadata": {},
   "outputs": [],
   "source": [
    "purchase_df['prediction'] = '0' + purchase_df['article_id'].astype(str) + ' '\n",
    "purchase_df = purchase_df.groupby('customer_id').agg({'prediction': sum}).reset_index()\n",
    "purchase_df['prediction'] = purchase_df['prediction'].str.strip()"
   ]
  },
  {
   "cell_type": "code",
   "execution_count": 77,
   "id": "d12c6161",
   "metadata": {},
   "outputs": [],
   "source": [
    "from evaluate import mapk, apk"
   ]
  },
  {
   "cell_type": "code",
   "execution_count": 78,
   "id": "8beb13c6",
   "metadata": {},
   "outputs": [
    {
     "data": {
      "text/plain": [
       "0.013376533261544206"
      ]
     },
     "execution_count": 78,
     "metadata": {},
     "output_type": "execute_result"
    }
   ],
   "source": [
    "merged= pd.merge(purchase_df, valid_sample, on='customer_id', how='inner')\n",
    "\n",
    "mapk(\n",
    "    merged['article_id'].map(lambda x: x.split()), \n",
    "    merged['prediction'].map(lambda x: x.split()), \n",
    "    k=12\n",
    ")"
   ]
  },
  {
   "cell_type": "code",
   "execution_count": 79,
   "id": "2c3054d0",
   "metadata": {},
   "outputs": [
    {
     "data": {
      "text/html": [
       "<div>\n",
       "<style scoped>\n",
       "    .dataframe tbody tr th:only-of-type {\n",
       "        vertical-align: middle;\n",
       "    }\n",
       "\n",
       "    .dataframe tbody tr th {\n",
       "        vertical-align: top;\n",
       "    }\n",
       "\n",
       "    .dataframe thead th {\n",
       "        text-align: right;\n",
       "    }\n",
       "</style>\n",
       "<table border=\"1\" class=\"dataframe\">\n",
       "  <thead>\n",
       "    <tr style=\"text-align: right;\">\n",
       "      <th></th>\n",
       "      <th>customer_id</th>\n",
       "      <th>article_id</th>\n",
       "      <th>t_dat</th>\n",
       "      <th>price</th>\n",
       "      <th>sales_channel_id</th>\n",
       "      <th>week_num</th>\n",
       "      <th>shift_dat</th>\n",
       "      <th>dist</th>\n",
       "      <th>ldbw</th>\n",
       "      <th>count</th>\n",
       "      <th>count_targ</th>\n",
       "      <th>quotient</th>\n",
       "    </tr>\n",
       "  </thead>\n",
       "  <tbody>\n",
       "    <tr>\n",
       "      <th>0</th>\n",
       "      <td>1</td>\n",
       "      <td>1469</td>\n",
       "      <td>2019-05-07</td>\n",
       "      <td>0.022017</td>\n",
       "      <td>2</td>\n",
       "      <td>72</td>\n",
       "      <td>NaT</td>\n",
       "      <td>NaN</td>\n",
       "      <td>2019-05-07</td>\n",
       "      <td>52</td>\n",
       "      <td>4</td>\n",
       "      <td>0.076923</td>\n",
       "    </tr>\n",
       "    <tr>\n",
       "      <th>1</th>\n",
       "      <td>1</td>\n",
       "      <td>1469</td>\n",
       "      <td>2019-06-18</td>\n",
       "      <td>0.022017</td>\n",
       "      <td>2</td>\n",
       "      <td>66</td>\n",
       "      <td>2019-05-07</td>\n",
       "      <td>42.0</td>\n",
       "      <td>2019-06-18</td>\n",
       "      <td>67</td>\n",
       "      <td>4</td>\n",
       "      <td>0.059701</td>\n",
       "    </tr>\n",
       "    <tr>\n",
       "      <th>2</th>\n",
       "      <td>1</td>\n",
       "      <td>1469</td>\n",
       "      <td>2020-04-22</td>\n",
       "      <td>0.016932</td>\n",
       "      <td>2</td>\n",
       "      <td>21</td>\n",
       "      <td>2019-06-18</td>\n",
       "      <td>309.0</td>\n",
       "      <td>2020-04-28</td>\n",
       "      <td>86</td>\n",
       "      <td>4</td>\n",
       "      <td>0.046512</td>\n",
       "    </tr>\n",
       "    <tr>\n",
       "      <th>3</th>\n",
       "      <td>6201</td>\n",
       "      <td>1469</td>\n",
       "      <td>2019-01-14</td>\n",
       "      <td>0.022017</td>\n",
       "      <td>2</td>\n",
       "      <td>88</td>\n",
       "      <td>NaT</td>\n",
       "      <td>NaN</td>\n",
       "      <td>2019-01-15</td>\n",
       "      <td>47</td>\n",
       "      <td>4</td>\n",
       "      <td>0.085106</td>\n",
       "    </tr>\n",
       "    <tr>\n",
       "      <th>4</th>\n",
       "      <td>6201</td>\n",
       "      <td>1469</td>\n",
       "      <td>2020-05-08</td>\n",
       "      <td>0.018712</td>\n",
       "      <td>2</td>\n",
       "      <td>19</td>\n",
       "      <td>2019-01-14</td>\n",
       "      <td>480.0</td>\n",
       "      <td>2020-05-12</td>\n",
       "      <td>51</td>\n",
       "      <td>4</td>\n",
       "      <td>0.078431</td>\n",
       "    </tr>\n",
       "  </tbody>\n",
       "</table>\n",
       "</div>"
      ],
      "text/plain": [
       "   customer_id  article_id      t_dat     price  sales_channel_id  week_num  \\\n",
       "0            1        1469 2019-05-07  0.022017                 2        72   \n",
       "1            1        1469 2019-06-18  0.022017                 2        66   \n",
       "2            1        1469 2020-04-22  0.016932                 2        21   \n",
       "3         6201        1469 2019-01-14  0.022017                 2        88   \n",
       "4         6201        1469 2020-05-08  0.018712                 2        19   \n",
       "\n",
       "   shift_dat   dist       ldbw  count  count_targ  quotient  \n",
       "0        NaT    NaN 2019-05-07     52           4  0.076923  \n",
       "1 2019-05-07   42.0 2019-06-18     67           4  0.059701  \n",
       "2 2019-06-18  309.0 2020-04-28     86           4  0.046512  \n",
       "3        NaT    NaN 2019-01-15     47           4  0.085106  \n",
       "4 2019-01-14  480.0 2020-05-12     51           4  0.078431  "
      ]
     },
     "execution_count": 79,
     "metadata": {},
     "output_type": "execute_result"
    }
   ],
   "source": [
    "df.head()"
   ]
  }
 ],
 "metadata": {
  "kernelspec": {
   "display_name": "torch",
   "language": "python",
   "name": "torch"
  },
  "language_info": {
   "codemirror_mode": {
    "name": "ipython",
    "version": 3
   },
   "file_extension": ".py",
   "mimetype": "text/x-python",
   "name": "python",
   "nbconvert_exporter": "python",
   "pygments_lexer": "ipython3",
   "version": "3.8.13"
  }
 },
 "nbformat": 4,
 "nbformat_minor": 5
}
