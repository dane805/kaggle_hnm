{
 "cells": [
  {
   "cell_type": "markdown",
   "metadata": {},
   "source": [
    "### setting"
   ]
  },
  {
   "cell_type": "code",
   "execution_count": 2,
   "metadata": {},
   "outputs": [],
   "source": [
    "import pandas as pd \n",
    "import numpy as np\n",
    "import matplotlib.pyplot as plt\n",
    "\n",
    "%matplotlib inline\n",
    "plt.rcParams['font.family'] = 'AppleGothic'\n",
    "plt.rcParams['font.size'] = 15\n",
    "plt.rcParams['figure.figsize'] = (7, 5)\n",
    "import seaborn as sns\n",
    "\n",
    "import warnings\n",
    "warnings.filterwarnings('ignore')\n",
    "\n",
    "pd.options.display.max_columns=None\n",
    "\n",
    "import os\n",
    "os.chdir('/Users/jina/Downloads/h-and-m-personalized-fashion-recommendations')"
   ]
  },
  {
   "cell_type": "code",
   "execution_count": 3,
   "metadata": {},
   "outputs": [],
   "source": [
    "transaction = pd.read_csv('transactions_train.csv') #학습 데이터(메타데이터로, 다른 데이터를 설명하는 데이터)\n",
    "article = pd.read_csv('articles.csv') #거래 데이터\n",
    "customer = pd.read_csv('customers.csv') #고객 데이터\n",
    "sample = pd.read_csv('sample_submission.csv') #제출 샘플"
   ]
  },
  {
   "cell_type": "code",
   "execution_count": 4,
   "metadata": {},
   "outputs": [],
   "source": [
    "from datetime import datetime, timedelta\n",
    "\n",
    "last_date = transaction['t_dat'].max()\n",
    "last_date = datetime.strptime(last_date, '%Y-%m-%d')\n",
    "\n",
    "last_week = last_date - timedelta(days=7)\n",
    "last_month = last_date - timedelta(days=30)\n",
    "last_3month = last_date - timedelta(days=30*3)"
   ]
  },
  {
   "cell_type": "code",
   "execution_count": 5,
   "metadata": {},
   "outputs": [],
   "source": [
    "transaction_week = transaction[transaction.t_dat >= str(last_week)]\n",
    "transaction_month = transaction[transaction.t_dat >= str(last_month)]\n",
    "transaction_3month = transaction[transaction.t_dat >= str(last_3month)]"
   ]
  },
  {
   "cell_type": "markdown",
   "metadata": {},
   "source": [
    "### 0 user"
   ]
  },
  {
   "cell_type": "markdown",
   "metadata": {},
   "source": [
    "#### TOP12(simple)"
   ]
  },
  {
   "cell_type": "code",
   "execution_count": 7,
   "metadata": {},
   "outputs": [],
   "source": [
    "#// TODO: user count와 기본 count / 0user 인터넷주문?\n",
    "popular = transaction_month.groupby(\"article_id\").size()\n",
    "popular_list = list(popular.nlargest(12).index)"
   ]
  },
  {
   "cell_type": "markdown",
   "metadata": {},
   "source": [
    "#### TOP12(mean,med) 동일"
   ]
  },
  {
   "cell_type": "code",
   "execution_count": 8,
   "metadata": {},
   "outputs": [],
   "source": [
    "transaction_month_mean = transaction_month[transaction_month['price'] <= transaction_month['price'].mean()]\n",
    "popular_mean = transaction_month_mean.groupby(\"article_id\").size()\n",
    "popular_mean_list = list(popular.nlargest(12).index)"
   ]
  },
  {
   "cell_type": "markdown",
   "metadata": {},
   "source": [
    "#### TOP12(age)"
   ]
  },
  {
   "cell_type": "code",
   "execution_count": 9,
   "metadata": {},
   "outputs": [
    {
     "name": "stdout",
     "output_type": "stream",
     "text": [
      "[715624001, 448509014, 706016001, 685814003, 797988002, 915526001, 918292001, 850917001, 685814001, 552716001, 918522001, 915526002]\n",
      "[915526001, 918292001, 706016001, 751471001, 898694001, 448509014, 915529003, 909370001, 863583001, 863583002, 714790020, 918522001]\n",
      "[915529003, 918292001, 768912001, 909370001, 158340001, 933706001, 706016001, 898694001, 751471001, 915529001, 863595006, 751471043]\n",
      "[751471001, 915529003, 751471043, 706016001, 863595006, 884319001, 865929003, 850917001, 783346001, 673677002, 852584001, 579541001]\n",
      "[751471043, 751471001, 896152002, 915529003, 751471038, 863595006, 762846031, 924243001, 918522001, 783346001, 893059005, 910601003]\n",
      "[896152002, 751471043, 933706001, 924243001, 896169002, 579541001, 751471001, 910601003, 918522001, 930380001, 678942001, 863595006]\n"
     ]
    }
   ],
   "source": [
    "merged_transaction = pd.merge(left = customer , right = transaction_month, how = \"right\", on = \"customer_id\")\n",
    "for i in range(20,80,10):\n",
    "    cond1 = (merged_transaction['age'] > i-10)\n",
    "    cond2 = (merged_transaction['age'] < i)\n",
    "    age_transaction = merged_transaction.loc[cond1 & cond2]\n",
    "    popular = age_transaction.groupby(\"article_id\").size()\n",
    "    popular_list = list(popular.nlargest(12).index)\n",
    "    print(popular_list)        "
   ]
  },
  {
   "cell_type": "markdown",
   "metadata": {},
   "source": [
    "#### 유입의 / 이달/ 탑12"
   ]
  },
  {
   "cell_type": "code",
   "execution_count": 6,
   "metadata": {},
   "outputs": [],
   "source": [
    "in_transaction = transaction.drop_duplicates(subset='customer_id', keep='first', inplace=False, ignore_index=False)"
   ]
  },
  {
   "cell_type": "code",
   "execution_count": 10,
   "metadata": {},
   "outputs": [],
   "source": [
    "transaction_month_in = in_transaction[in_transaction.t_dat >= str(last_month)]"
   ]
  },
  {
   "cell_type": "code",
   "execution_count": 14,
   "metadata": {},
   "outputs": [
    {
     "data": {
      "text/plain": [
       "article_id\n",
       "715624001    98\n",
       "915526001    96\n",
       "568601006    65\n",
       "918292001    63\n",
       "552716001    62\n",
       "850917001    59\n",
       "456163060    54\n",
       "448509014    54\n",
       "924243001    54\n",
       "579541001    53\n",
       "751471001    52\n",
       "898694001    52\n",
       "Name: article_id, dtype: int64"
      ]
     },
     "execution_count": 14,
     "metadata": {},
     "output_type": "execute_result"
    }
   ],
   "source": [
    "inflow_list_month = transaction_month_in.groupby('article_id')['article_id'].count()\n",
    "inflow_list_month = inflow_list_month.sort_values(ascending=False)\n",
    "inflow_list_month.nlargest(12)"
   ]
  },
  {
   "cell_type": "markdown",
   "metadata": {},
   "source": [
    "#### 유입의 / 이달/ 탑12 (연령별)"
   ]
  },
  {
   "cell_type": "code",
   "execution_count": 16,
   "metadata": {},
   "outputs": [
    {
     "name": "stdout",
     "output_type": "stream",
     "text": [
      "[715624001, 552716001, 639448001, 685814003, 448509014, 748355003, 568601006, 915526001, 706016001, 715624010, 456163060, 685814001]\n",
      "[915526001, 715624001, 758034001, 918292001, 898694001, 874110016, 909370001, 568601006, 924243001, 448509014, 850917001, 856270002]\n",
      "[775382001, 810169017, 534164032, 810169002, 810170016, 534164001, 534164033, 754792004, 918292001, 562245046, 579541001, 719655001]\n",
      "[456163086, 456163060, 805000001, 751471001, 794321011, 715624010, 751471038, 889661001, 568601006, 579541001, 610776002, 783346001]\n",
      "[896152002, 751471001, 796210001, 805000007, 783346001, 874891001, 751471043, 909911001, 910601003, 912100003, 918836001, 568601006]\n",
      "[579541001, 579541075, 751471043, 874754002, 910601003, 796210001, 904567002, 918836001, 930380001, 568601043, 751471001, 845790002]\n"
     ]
    }
   ],
   "source": [
    "merged_transaction = pd.merge(left = customer , right = transaction_month_in, how = \"right\", on = \"customer_id\")\n",
    "for i in range(20,80,10):\n",
    "    cond1 = (merged_transaction['age'] > i-10)\n",
    "    cond2 = (merged_transaction['age'] < i)\n",
    "    age_transaction = merged_transaction.loc[cond1 & cond2]\n",
    "    popular = age_transaction.groupby(\"article_id\").size()\n",
    "    popular_list = list(popular.nlargest(12).index)\n",
    "    print(popular_list)       "
   ]
  },
  {
   "cell_type": "markdown",
   "metadata": {},
   "source": [
    "### 1-2user"
   ]
  },
  {
   "cell_type": "code",
   "execution_count": 113,
   "metadata": {},
   "outputs": [
    {
     "data": {
      "text/html": [
       "<div>\n",
       "<style scoped>\n",
       "    .dataframe tbody tr th:only-of-type {\n",
       "        vertical-align: middle;\n",
       "    }\n",
       "\n",
       "    .dataframe tbody tr th {\n",
       "        vertical-align: top;\n",
       "    }\n",
       "\n",
       "    .dataframe thead th {\n",
       "        text-align: right;\n",
       "    }\n",
       "</style>\n",
       "<table border=\"1\" class=\"dataframe\">\n",
       "  <thead>\n",
       "    <tr style=\"text-align: right;\">\n",
       "      <th></th>\n",
       "      <th>customer_id</th>\n",
       "      <th>article_id</th>\n",
       "      <th>0</th>\n",
       "    </tr>\n",
       "  </thead>\n",
       "  <tbody>\n",
       "    <tr>\n",
       "      <th>0</th>\n",
       "      <td>00000dbacae5abe5e23885899a1fa44253a17956c6d1c3...</td>\n",
       "      <td>568601043</td>\n",
       "      <td>1</td>\n",
       "    </tr>\n",
       "    <tr>\n",
       "      <th>1</th>\n",
       "      <td>000058a12d5b43e67d225668fa1f8d618c13dc232df0ca...</td>\n",
       "      <td>794321007</td>\n",
       "      <td>1</td>\n",
       "    </tr>\n",
       "    <tr>\n",
       "      <th>2</th>\n",
       "      <td>0000757967448a6cb83efb3ea7a3fb9d418ac7adf2379d...</td>\n",
       "      <td>448509014</td>\n",
       "      <td>1</td>\n",
       "    </tr>\n",
       "    <tr>\n",
       "      <th>3</th>\n",
       "      <td>0000757967448a6cb83efb3ea7a3fb9d418ac7adf2379d...</td>\n",
       "      <td>719530003</td>\n",
       "      <td>1</td>\n",
       "    </tr>\n",
       "    <tr>\n",
       "      <th>4</th>\n",
       "      <td>00009d946eec3ea54add5ba56d5210ea898def4b46c685...</td>\n",
       "      <td>516859008</td>\n",
       "      <td>1</td>\n",
       "    </tr>\n",
       "  </tbody>\n",
       "</table>\n",
       "</div>"
      ],
      "text/plain": [
       "                                         customer_id  article_id  0\n",
       "0  00000dbacae5abe5e23885899a1fa44253a17956c6d1c3...   568601043  1\n",
       "1  000058a12d5b43e67d225668fa1f8d618c13dc232df0ca...   794321007  1\n",
       "2  0000757967448a6cb83efb3ea7a3fb9d418ac7adf2379d...   448509014  1\n",
       "3  0000757967448a6cb83efb3ea7a3fb9d418ac7adf2379d...   719530003  1\n",
       "4  00009d946eec3ea54add5ba56d5210ea898def4b46c685...   516859008  1"
      ]
     },
     "execution_count": 113,
     "metadata": {},
     "output_type": "execute_result"
    }
   ],
   "source": [
    "emp2 = pd.DataFrame(transaction_month.groupby(['customer_id','article_id']).size()).reset_index(inplace=False)  \n",
    "one_user = emp2[emp2.iloc[:,2] == 1]\n",
    "one_user.head()"
   ]
  },
  {
   "cell_type": "code",
   "execution_count": 115,
   "metadata": {},
   "outputs": [
    {
     "data": {
      "text/html": [
       "<div>\n",
       "<style scoped>\n",
       "    .dataframe tbody tr th:only-of-type {\n",
       "        vertical-align: middle;\n",
       "    }\n",
       "\n",
       "    .dataframe tbody tr th {\n",
       "        vertical-align: top;\n",
       "    }\n",
       "\n",
       "    .dataframe thead th {\n",
       "        text-align: right;\n",
       "    }\n",
       "</style>\n",
       "<table border=\"1\" class=\"dataframe\">\n",
       "  <thead>\n",
       "    <tr style=\"text-align: right;\">\n",
       "      <th></th>\n",
       "      <th>customer_id</th>\n",
       "      <th>article_id</th>\n",
       "      <th>0</th>\n",
       "    </tr>\n",
       "  </thead>\n",
       "  <tbody>\n",
       "    <tr>\n",
       "      <th>14</th>\n",
       "      <td>0000e9a4db2da4e9c68558ad1e7df570d02767b213ec6b...</td>\n",
       "      <td>880553001</td>\n",
       "      <td>2</td>\n",
       "    </tr>\n",
       "    <tr>\n",
       "      <th>17</th>\n",
       "      <td>000172a9c322560c849754ffbdfdb2180d408aa7176b94...</td>\n",
       "      <td>685814001</td>\n",
       "      <td>3</td>\n",
       "    </tr>\n",
       "    <tr>\n",
       "      <th>41</th>\n",
       "      <td>0003e867a930d0d6842f923d6ba7c9b77aba33fe2a0fbf...</td>\n",
       "      <td>880017001</td>\n",
       "      <td>2</td>\n",
       "    </tr>\n",
       "    <tr>\n",
       "      <th>46</th>\n",
       "      <td>00040239317e877c77ac6e79df42eb2633ad38fcac09fc...</td>\n",
       "      <td>875272011</td>\n",
       "      <td>2</td>\n",
       "    </tr>\n",
       "    <tr>\n",
       "      <th>47</th>\n",
       "      <td>00040239317e877c77ac6e79df42eb2633ad38fcac09fc...</td>\n",
       "      <td>875272012</td>\n",
       "      <td>2</td>\n",
       "    </tr>\n",
       "  </tbody>\n",
       "</table>\n",
       "</div>"
      ],
      "text/plain": [
       "                                          customer_id  article_id  0\n",
       "14  0000e9a4db2da4e9c68558ad1e7df570d02767b213ec6b...   880553001  2\n",
       "17  000172a9c322560c849754ffbdfdb2180d408aa7176b94...   685814001  3\n",
       "41  0003e867a930d0d6842f923d6ba7c9b77aba33fe2a0fbf...   880017001  2\n",
       "46  00040239317e877c77ac6e79df42eb2633ad38fcac09fc...   875272011  2\n",
       "47  00040239317e877c77ac6e79df42eb2633ad38fcac09fc...   875272012  2"
      ]
     },
     "execution_count": 115,
     "metadata": {},
     "output_type": "execute_result"
    }
   ],
   "source": [
    "many_user = emp2[emp2.iloc[:,2] != 1]\n",
    "many_user.head()"
   ]
  },
  {
   "cell_type": "code",
   "execution_count": 123,
   "metadata": {},
   "outputs": [
    {
     "data": {
      "text/plain": [
       "406996    68cfad94d2410b92d4c1ad466e4fde1306f3f427e21ac0...\n",
       "461784    773d1bddfb0c689f040c722a692cbecc92c5bb50b66c98...\n",
       "560909    906993bf87170a0e9ab24f7aaf0ec473b3e647efa9c8b9...\n",
       "561126    9075fa0e0a945dd3eb04b417813cd90cfa22a36e49b28b...\n",
       "763099    c4a43252d519542c91bf85f0e313e91886bd1cdcf32a20...\n",
       "956442    f6d4b424598dd25c7dd3e2b06b30ffc1c0bb89ac50e3c1...\n",
       "Name: customer_id, dtype: object"
      ]
     },
     "execution_count": 123,
     "metadata": {},
     "output_type": "execute_result"
    }
   ],
   "source": [
    "many_user[many_user['article_id'] == one_user['article_id'][0]]['customer_id']"
   ]
  },
  {
   "cell_type": "markdown",
   "metadata": {},
   "source": [
    "### common user"
   ]
  },
  {
   "cell_type": "code",
   "execution_count": 9,
   "metadata": {},
   "outputs": [],
   "source": [
    "from gensim import corpora \n",
    "from gensim import models\n",
    "from wordcloud import WordCloud\n",
    "import matplotlib.pyplot as plt"
   ]
  },
  {
   "cell_type": "code",
   "execution_count": 65,
   "metadata": {},
   "outputs": [],
   "source": [
    "user2idx = {} # uid_to_idx\n",
    "for i, l in enumerate(many_user['customer_id'].unique()):\n",
    "    user2idx[l] = i\n",
    "    \n",
    "item2idx = {} # iid_to_idx\n",
    "for i, l in enumerate(many_user['article_id'].unique()):\n",
    "    item2idx[l] = i\n",
    "\n",
    "idx2user = {i: user for user, i in user2idx.items()} #idx_ti_uid\n",
    "idx2item = {i: item for item, i in item2idx.items()} #idx_to_iid\n",
    "\n",
    "# many_user['customer_id'] = user2idx(many_user['customer_id'])\n",
    "# many_user['customer_id'] = [many_user.iloc[i:,0] for i in user2idx(many_user.iloc[i:,0])]"
   ]
  },
  {
   "cell_type": "code",
   "execution_count": 62,
   "metadata": {},
   "outputs": [
    {
     "data": {
      "text/plain": [
       "customer_id    0000e9a4db2da4e9c68558ad1e7df570d02767b213ec6b...\n",
       "article_id                                             880553001\n",
       "0                                                              2\n",
       "Name: 14, dtype: object"
      ]
     },
     "execution_count": 62,
     "metadata": {},
     "output_type": "execute_result"
    }
   ],
   "source": [
    "many_user.iloc[0,:]"
   ]
  },
  {
   "cell_type": "markdown",
   "metadata": {},
   "source": [
    "### lda 방법"
   ]
  },
  {
   "cell_type": "code",
   "execution_count": 21,
   "metadata": {},
   "outputs": [],
   "source": [
    "from sklearn.decomposition import LatentDirichletAllocation\n",
    "from sklearn.datasets import make_multilabel_classification\n",
    "from scipy.sparse import csr_matrix\n",
    "import implicit"
   ]
  },
  {
   "cell_type": "code",
   "execution_count": 44,
   "metadata": {},
   "outputs": [
    {
     "data": {
      "text/html": [
       "<div>\n",
       "<style scoped>\n",
       "    .dataframe tbody tr th:only-of-type {\n",
       "        vertical-align: middle;\n",
       "    }\n",
       "\n",
       "    .dataframe tbody tr th {\n",
       "        vertical-align: top;\n",
       "    }\n",
       "\n",
       "    .dataframe thead th {\n",
       "        text-align: right;\n",
       "    }\n",
       "</style>\n",
       "<table border=\"1\" class=\"dataframe\">\n",
       "  <thead>\n",
       "    <tr style=\"text-align: right;\">\n",
       "      <th></th>\n",
       "      <th>customer_id</th>\n",
       "      <th>article_id</th>\n",
       "      <th>0</th>\n",
       "      <th>article</th>\n",
       "    </tr>\n",
       "  </thead>\n",
       "  <tbody>\n",
       "    <tr>\n",
       "      <th>14</th>\n",
       "      <td>0000e9a4db2da4e9c68558ad1e7df570d02767b213ec6b...</td>\n",
       "      <td>880553001</td>\n",
       "      <td>2</td>\n",
       "      <td>1761106002</td>\n",
       "    </tr>\n",
       "    <tr>\n",
       "      <th>17</th>\n",
       "      <td>000172a9c322560c849754ffbdfdb2180d408aa7176b94...</td>\n",
       "      <td>685814001</td>\n",
       "      <td>3</td>\n",
       "      <td>2057442003</td>\n",
       "    </tr>\n",
       "    <tr>\n",
       "      <th>41</th>\n",
       "      <td>0003e867a930d0d6842f923d6ba7c9b77aba33fe2a0fbf...</td>\n",
       "      <td>880017001</td>\n",
       "      <td>2</td>\n",
       "      <td>1760034002</td>\n",
       "    </tr>\n",
       "    <tr>\n",
       "      <th>46</th>\n",
       "      <td>00040239317e877c77ac6e79df42eb2633ad38fcac09fc...</td>\n",
       "      <td>875272011</td>\n",
       "      <td>2</td>\n",
       "      <td>1750544022</td>\n",
       "    </tr>\n",
       "    <tr>\n",
       "      <th>47</th>\n",
       "      <td>00040239317e877c77ac6e79df42eb2633ad38fcac09fc...</td>\n",
       "      <td>875272012</td>\n",
       "      <td>2</td>\n",
       "      <td>1750544024</td>\n",
       "    </tr>\n",
       "    <tr>\n",
       "      <th>...</th>\n",
       "      <td>...</td>\n",
       "      <td>...</td>\n",
       "      <td>...</td>\n",
       "      <td>...</td>\n",
       "    </tr>\n",
       "    <tr>\n",
       "      <th>991596</th>\n",
       "      <td>fffcc686584b3388a3afe410e3555e3557f556382b2f60...</td>\n",
       "      <td>840604001</td>\n",
       "      <td>3</td>\n",
       "      <td>2521812003</td>\n",
       "    </tr>\n",
       "    <tr>\n",
       "      <th>991597</th>\n",
       "      <td>fffcc686584b3388a3afe410e3555e3557f556382b2f60...</td>\n",
       "      <td>841298001</td>\n",
       "      <td>2</td>\n",
       "      <td>1682596002</td>\n",
       "    </tr>\n",
       "    <tr>\n",
       "      <th>991609</th>\n",
       "      <td>fffef3b6b73545df065b521e19f64bf6fe93bfd450ab20...</td>\n",
       "      <td>748269009</td>\n",
       "      <td>2</td>\n",
       "      <td>1496538018</td>\n",
       "    </tr>\n",
       "    <tr>\n",
       "      <th>991617</th>\n",
       "      <td>fffef3b6b73545df065b521e19f64bf6fe93bfd450ab20...</td>\n",
       "      <td>881919001</td>\n",
       "      <td>2</td>\n",
       "      <td>1763838002</td>\n",
       "    </tr>\n",
       "    <tr>\n",
       "      <th>991619</th>\n",
       "      <td>fffef3b6b73545df065b521e19f64bf6fe93bfd450ab20...</td>\n",
       "      <td>905365002</td>\n",
       "      <td>2</td>\n",
       "      <td>1810730004</td>\n",
       "    </tr>\n",
       "  </tbody>\n",
       "</table>\n",
       "<p>108353 rows × 4 columns</p>\n",
       "</div>"
      ],
      "text/plain": [
       "                                              customer_id  article_id  0  \\\n",
       "14      0000e9a4db2da4e9c68558ad1e7df570d02767b213ec6b...   880553001  2   \n",
       "17      000172a9c322560c849754ffbdfdb2180d408aa7176b94...   685814001  3   \n",
       "41      0003e867a930d0d6842f923d6ba7c9b77aba33fe2a0fbf...   880017001  2   \n",
       "46      00040239317e877c77ac6e79df42eb2633ad38fcac09fc...   875272011  2   \n",
       "47      00040239317e877c77ac6e79df42eb2633ad38fcac09fc...   875272012  2   \n",
       "...                                                   ...         ... ..   \n",
       "991596  fffcc686584b3388a3afe410e3555e3557f556382b2f60...   840604001  3   \n",
       "991597  fffcc686584b3388a3afe410e3555e3557f556382b2f60...   841298001  2   \n",
       "991609  fffef3b6b73545df065b521e19f64bf6fe93bfd450ab20...   748269009  2   \n",
       "991617  fffef3b6b73545df065b521e19f64bf6fe93bfd450ab20...   881919001  2   \n",
       "991619  fffef3b6b73545df065b521e19f64bf6fe93bfd450ab20...   905365002  2   \n",
       "\n",
       "           article  \n",
       "14      1761106002  \n",
       "17      2057442003  \n",
       "41      1760034002  \n",
       "46      1750544022  \n",
       "47      1750544024  \n",
       "...            ...  \n",
       "991596  2521812003  \n",
       "991597  1682596002  \n",
       "991609  1496538018  \n",
       "991617  1763838002  \n",
       "991619  1810730004  \n",
       "\n",
       "[108353 rows x 4 columns]"
      ]
     },
     "execution_count": 44,
     "metadata": {},
     "output_type": "execute_result"
    }
   ],
   "source": [
    "# many_user.groupby('customer_id')['article_id'].sum()\n",
    "many_user['article'] = many_user['article_id'] * many_user[0]\n",
    "many_user"
   ]
  },
  {
   "cell_type": "code",
   "execution_count": 17,
   "metadata": {},
   "outputs": [],
   "source": [
    "user2idx = {} # uid_to_idx\n",
    "for i, l in enumerate(many_user['customer_id'].unique()):\n",
    "    user2idx[l] = i\n",
    "    \n",
    "item2idx = {} # iid_to_idx\n",
    "for i, l in enumerate(many_user['article_id'].unique()):\n",
    "    item2idx[l] = i\n",
    "\n",
    "idx2user = {i: user for user, i in user2idx.items()} #idx_ti_uid\n",
    "idx2item = {i: item for item, i in item2idx.items()} #idx_to_iid"
   ]
  },
  {
   "cell_type": "code",
   "execution_count": 19,
   "metadata": {},
   "outputs": [],
   "source": [
    "row, col, dat = many_user['customer_id'].tolist(), many_user['article_id'].tolist(), [1]*len(many_user)\n",
    "row = [user2idx[r] for r in row]\n",
    "col = [item2idx[c] for c in col]"
   ]
  },
  {
   "cell_type": "code",
   "execution_count": 22,
   "metadata": {},
   "outputs": [
    {
     "name": "stdout",
     "output_type": "stream",
     "text": [
      "(57472, 11848)\n"
     ]
    }
   ],
   "source": [
    "train_matrix = csr_matrix((dat, (row,col)), shape=(1 + np.max(row), 1 + np.max(col)))\n",
    "print(train_matrix.shape)"
   ]
  },
  {
   "cell_type": "code",
   "execution_count": 23,
   "metadata": {},
   "outputs": [],
   "source": [
    "train_matrix_csr = train_matrix.tocsr()"
   ]
  },
  {
   "cell_type": "code",
   "execution_count": null,
   "metadata": {},
   "outputs": [],
   "source": [
    "k = 50\n",
    "reg = 0.01\n",
    "model_imp = implicit.als.AlternatingLeastSquares(factors=k, regularization=reg, iterations=70)\n",
    "model_imp.fit(train_matrix_csr)"
   ]
  },
  {
   "cell_type": "markdown",
   "metadata": {},
   "source": [
    "### split"
   ]
  },
  {
   "cell_type": "code",
   "execution_count": 3,
   "metadata": {},
   "outputs": [
    {
     "data": {
      "text/html": [
       "<div>\n",
       "<style scoped>\n",
       "    .dataframe tbody tr th:only-of-type {\n",
       "        vertical-align: middle;\n",
       "    }\n",
       "\n",
       "    .dataframe tbody tr th {\n",
       "        vertical-align: top;\n",
       "    }\n",
       "\n",
       "    .dataframe thead th {\n",
       "        text-align: right;\n",
       "    }\n",
       "</style>\n",
       "<table border=\"1\" class=\"dataframe\">\n",
       "  <thead>\n",
       "    <tr style=\"text-align: right;\">\n",
       "      <th></th>\n",
       "      <th>t_dat</th>\n",
       "      <th>customer_id</th>\n",
       "      <th>article_id</th>\n",
       "      <th>price</th>\n",
       "      <th>sales_channel_id</th>\n",
       "    </tr>\n",
       "  </thead>\n",
       "  <tbody>\n",
       "    <tr>\n",
       "      <th>0</th>\n",
       "      <td>2018-09-20</td>\n",
       "      <td>000058a12d5b43e67d225668fa1f8d618c13dc232df0ca...</td>\n",
       "      <td>663713001</td>\n",
       "      <td>0.050831</td>\n",
       "      <td>2</td>\n",
       "    </tr>\n",
       "    <tr>\n",
       "      <th>1</th>\n",
       "      <td>2018-09-20</td>\n",
       "      <td>000058a12d5b43e67d225668fa1f8d618c13dc232df0ca...</td>\n",
       "      <td>541518023</td>\n",
       "      <td>0.030492</td>\n",
       "      <td>2</td>\n",
       "    </tr>\n",
       "    <tr>\n",
       "      <th>2</th>\n",
       "      <td>2018-09-20</td>\n",
       "      <td>00007d2de826758b65a93dd24ce629ed66842531df6699...</td>\n",
       "      <td>505221004</td>\n",
       "      <td>0.015237</td>\n",
       "      <td>2</td>\n",
       "    </tr>\n",
       "    <tr>\n",
       "      <th>3</th>\n",
       "      <td>2018-09-20</td>\n",
       "      <td>00007d2de826758b65a93dd24ce629ed66842531df6699...</td>\n",
       "      <td>685687003</td>\n",
       "      <td>0.016932</td>\n",
       "      <td>2</td>\n",
       "    </tr>\n",
       "    <tr>\n",
       "      <th>4</th>\n",
       "      <td>2018-09-20</td>\n",
       "      <td>00007d2de826758b65a93dd24ce629ed66842531df6699...</td>\n",
       "      <td>685687004</td>\n",
       "      <td>0.016932</td>\n",
       "      <td>2</td>\n",
       "    </tr>\n",
       "    <tr>\n",
       "      <th>...</th>\n",
       "      <td>...</td>\n",
       "      <td>...</td>\n",
       "      <td>...</td>\n",
       "      <td>...</td>\n",
       "      <td>...</td>\n",
       "    </tr>\n",
       "    <tr>\n",
       "      <th>31788319</th>\n",
       "      <td>2020-09-22</td>\n",
       "      <td>fff2282977442e327b45d8c89afde25617d00124d0f999...</td>\n",
       "      <td>929511001</td>\n",
       "      <td>0.059305</td>\n",
       "      <td>2</td>\n",
       "    </tr>\n",
       "    <tr>\n",
       "      <th>31788320</th>\n",
       "      <td>2020-09-22</td>\n",
       "      <td>fff2282977442e327b45d8c89afde25617d00124d0f999...</td>\n",
       "      <td>891322004</td>\n",
       "      <td>0.042356</td>\n",
       "      <td>2</td>\n",
       "    </tr>\n",
       "    <tr>\n",
       "      <th>31788321</th>\n",
       "      <td>2020-09-22</td>\n",
       "      <td>fff380805474b287b05cb2a7507b9a013482f7dd0bce0e...</td>\n",
       "      <td>918325001</td>\n",
       "      <td>0.043203</td>\n",
       "      <td>1</td>\n",
       "    </tr>\n",
       "    <tr>\n",
       "      <th>31788322</th>\n",
       "      <td>2020-09-22</td>\n",
       "      <td>fff4d3a8b1f3b60af93e78c30a7cb4cf75edaf2590d3e5...</td>\n",
       "      <td>833459002</td>\n",
       "      <td>0.006763</td>\n",
       "      <td>1</td>\n",
       "    </tr>\n",
       "    <tr>\n",
       "      <th>31788323</th>\n",
       "      <td>2020-09-22</td>\n",
       "      <td>fffef3b6b73545df065b521e19f64bf6fe93bfd450ab20...</td>\n",
       "      <td>898573003</td>\n",
       "      <td>0.033881</td>\n",
       "      <td>2</td>\n",
       "    </tr>\n",
       "  </tbody>\n",
       "</table>\n",
       "<p>31788324 rows × 5 columns</p>\n",
       "</div>"
      ],
      "text/plain": [
       "               t_dat                                        customer_id  \\\n",
       "0         2018-09-20  000058a12d5b43e67d225668fa1f8d618c13dc232df0ca...   \n",
       "1         2018-09-20  000058a12d5b43e67d225668fa1f8d618c13dc232df0ca...   \n",
       "2         2018-09-20  00007d2de826758b65a93dd24ce629ed66842531df6699...   \n",
       "3         2018-09-20  00007d2de826758b65a93dd24ce629ed66842531df6699...   \n",
       "4         2018-09-20  00007d2de826758b65a93dd24ce629ed66842531df6699...   \n",
       "...              ...                                                ...   \n",
       "31788319  2020-09-22  fff2282977442e327b45d8c89afde25617d00124d0f999...   \n",
       "31788320  2020-09-22  fff2282977442e327b45d8c89afde25617d00124d0f999...   \n",
       "31788321  2020-09-22  fff380805474b287b05cb2a7507b9a013482f7dd0bce0e...   \n",
       "31788322  2020-09-22  fff4d3a8b1f3b60af93e78c30a7cb4cf75edaf2590d3e5...   \n",
       "31788323  2020-09-22  fffef3b6b73545df065b521e19f64bf6fe93bfd450ab20...   \n",
       "\n",
       "          article_id     price  sales_channel_id  \n",
       "0          663713001  0.050831                 2  \n",
       "1          541518023  0.030492                 2  \n",
       "2          505221004  0.015237                 2  \n",
       "3          685687003  0.016932                 2  \n",
       "4          685687004  0.016932                 2  \n",
       "...              ...       ...               ...  \n",
       "31788319   929511001  0.059305                 2  \n",
       "31788320   891322004  0.042356                 2  \n",
       "31788321   918325001  0.043203                 1  \n",
       "31788322   833459002  0.006763                 1  \n",
       "31788323   898573003  0.033881                 2  \n",
       "\n",
       "[31788324 rows x 5 columns]"
      ]
     },
     "execution_count": 3,
     "metadata": {},
     "output_type": "execute_result"
    }
   ],
   "source": [
    "transaction = transaction.sort_values(['t_dat','customer_id'], ascending=True)\n",
    "transaction"
   ]
  },
  {
   "cell_type": "code",
   "execution_count": 4,
   "metadata": {},
   "outputs": [],
   "source": [
    "valid_mask = transaction['t_dat'] >= '2020-09-16'\n",
    "train_mask = (transaction['t_dat'] >= '2020-09-09') & (transaction['t_dat'] < '2020-09-16')\n",
    "valid_transaction = transaction.loc[valid_mask]\n",
    "train_transaction = transaction.loc[train_mask]\n",
    "valid_transaction.drop(['t_dat'], axis=1, inplace=True)\n",
    "train_transaction.drop(['t_dat'], axis=1, inplace=True)"
   ]
  },
  {
   "cell_type": "code",
   "execution_count": 5,
   "metadata": {},
   "outputs": [
    {
     "name": "stdout",
     "output_type": "stream",
     "text": [
      "[909370001, 865799006, 918522001, 924243001, 448509014, 751471001, 809238001, 918292001, 762846027, 809238005, 673677002, 923758001]\n"
     ]
    }
   ],
   "source": [
    "top_12 = list(train_transaction['article_id'].value_counts()[:12].index)\n",
    "print(top_12)"
   ]
  },
  {
   "cell_type": "markdown",
   "metadata": {},
   "source": [
    "### 제출"
   ]
  },
  {
   "cell_type": "code",
   "execution_count": null,
   "metadata": {},
   "outputs": [],
   "source": [
    "transaction_mat = transaction.groupby(['customer_id', 'article_id'])['price'].agg('count')\n",
    "transaction_mat = transaction_mat.reset_index() \n",
    "transaction_mat"
   ]
  },
  {
   "cell_type": "code",
   "execution_count": null,
   "metadata": {},
   "outputs": [],
   "source": [
    "transaction_mat = transaction_mat.assign(\n",
    "    user_id = transaction_mat['customer_id'].map(user2idx),\n",
    "    item_id = transaction_mat['article_id'].map(item2idx)\n",
    ")\n",
    "\n",
    "transaction_mat = transaction_mat.drop([\"customer_id\", \"article_id\"], axis=1)\n",
    "transaction_mat.info()\n",
    "\n",
    "useridx = transaction_mat['user_id'].apply(lambda x: idx2user[x]).values\n",
    "itemidx = transaction_mat['item_id'].apply(lambda x: idx2item[x]).values"
   ]
  },
  {
   "cell_type": "code",
   "execution_count": 19,
   "metadata": {},
   "outputs": [],
   "source": [
    "submission = pd.read_csv(\"sample_submission.csv\")\n",
    "submission"
   ]
  },
  {
   "cell_type": "code",
   "execution_count": 20,
   "metadata": {},
   "outputs": [],
   "source": [
    "customer_to_summit = set(submission['customer_id'])\n",
    "customer_trained = set(user2idx.keys())"
   ]
  },
  {
   "cell_type": "code",
   "execution_count": 22,
   "metadata": {},
   "outputs": [],
   "source": [
    "submission_sample = submission.drop(\"prediction\", axis=1)"
   ]
  },
  {
   "cell_type": "code",
   "execution_count": null,
   "metadata": {},
   "outputs": [],
   "source": [
    "popularity_simple_str = \" \".join([str(i) for i in top_12])\n",
    "submission_sample.assign(prediction=popularity_simple_str).to_csv(\"./submissions/submission_simple_popularity.csv\", index=False)"
   ]
  }
 ],
 "metadata": {
  "kernelspec": {
   "display_name": "Python 3.8.10 ('jin')",
   "language": "python",
   "name": "python3"
  },
  "language_info": {
   "codemirror_mode": {
    "name": "ipython",
    "version": 3
   },
   "file_extension": ".py",
   "mimetype": "text/x-python",
   "name": "python",
   "nbconvert_exporter": "python",
   "pygments_lexer": "ipython3",
   "version": "3.8.10"
  },
  "orig_nbformat": 4,
  "vscode": {
   "interpreter": {
    "hash": "40cb4560f22f3b5af181c9d4294ff3930053f41424d9d8dcd6678e1fa217a643"
   }
  }
 },
 "nbformat": 4,
 "nbformat_minor": 2
}
